{
 "cells": [
  {
   "cell_type": "markdown",
   "metadata": {
    "id": "Gc8x8QimJY_H"
   },
   "source": [
    "# Project Python Foundations: FoodHub Data Analysis\n",
    "\n",
    "**Marks: 60**"
   ]
  },
  {
   "cell_type": "markdown",
   "metadata": {
    "id": "NqikjkWwJY_L"
   },
   "source": [
    "### Context\n",
    "\n",
    "The number of restaurants in New York is increasing day by day. Lots of students and busy professionals rely on those restaurants due to their hectic lifestyles. Online food delivery service is a great option for them. It provides them with good food from their favorite restaurants. A food aggregator company FoodHub offers access to multiple restaurants through a single smartphone app.\n",
    "\n",
    "The app allows the restaurants to receive a direct online order from a customer. The app assigns a delivery person from the company to pick up the order after it is confirmed by the restaurant. The delivery person then uses the map to reach the restaurant and waits for the food package. Once the food package is handed over to the delivery person, he/she confirms the pick-up in the app and travels to the customer's location to deliver the food. The delivery person confirms the drop-off in the app after delivering the food package to the customer. The customer can rate the order in the app. The food aggregator earns money by collecting a fixed margin of the delivery order from the restaurants.\n",
    "\n",
    "### Objective\n",
    "\n",
    "The food aggregator company has stored the data of the different orders made by the registered customers in their online portal. They want to analyze the data to get a fair idea about the demand of different restaurants which will help them in enhancing their customer experience. Suppose you are hired as a Data Scientist in this company and the Data Science team has shared some of the key questions that need to be answered. Perform the data analysis to find answers to these questions that will help the company to improve the business. \n",
    "\n",
    "### Data Description\n",
    "\n",
    "The data contains the different data related to a food order. The detailed data dictionary is given below.\n",
    "\n",
    "### Data Dictionary\n",
    "\n",
    "* order_id: Unique ID of the order\n",
    "* customer_id: ID of the customer who ordered the food\n",
    "* restaurant_name: Name of the restaurant\n",
    "* cuisine_type: Cuisine ordered by the customer\n",
    "* cost: Cost of the order\n",
    "* day_of_the_week: Indicates whether the order is placed on a weekday or weekend (The weekday is from Monday to Friday and the weekend is Saturday and Sunday)\n",
    "* rating: Rating given by the customer out of 5\n",
    "* food_preparation_time: Time (in minutes) taken by the restaurant to prepare the food. This is calculated by taking the difference between the timestamps of the restaurant's order confirmation and the delivery person's pick-up confirmation.\n",
    "* delivery_time: Time (in minutes) taken by the delivery person to deliver the food package. This is calculated by taking the difference between the timestamps of the delivery person's pick-up confirmation and drop-off information"
   ]
  },
  {
   "cell_type": "markdown",
   "metadata": {
    "id": "cEtNUxNAJY_M"
   },
   "source": [
    "### Let us start by importing the required libraries"
   ]
  },
  {
   "cell_type": "code",
   "execution_count": 1,
   "metadata": {
    "id": "u6PlpJAPJY_N"
   },
   "outputs": [],
   "source": [
    "# import libraries for data manipulation\n",
    "import numpy as np\n",
    "import pandas as pd\n",
    "\n",
    "# import libraries for data visualization\n",
    "import matplotlib.pyplot as plt\n",
    "import seaborn as sns"
   ]
  },
  {
   "cell_type": "markdown",
   "metadata": {
    "id": "AdracY0HJY_O"
   },
   "source": [
    "### Understanding the structure of the data"
   ]
  },
  {
   "cell_type": "code",
   "execution_count": 2,
   "metadata": {
    "id": "WBh2ZGB9kFhU"
   },
   "outputs": [],
   "source": [
    "# uncomment and run the following lines for Google Colab\n",
    "# from google.colab import drive\n",
    "# drive.mount('/content/drive')"
   ]
  },
  {
   "cell_type": "code",
   "execution_count": 3,
   "metadata": {
    "id": "GF01IZDbJY_O",
    "scrolled": true
   },
   "outputs": [
    {
     "data": {
      "text/html": [
       "<div>\n",
       "<style scoped>\n",
       "    .dataframe tbody tr th:only-of-type {\n",
       "        vertical-align: middle;\n",
       "    }\n",
       "\n",
       "    .dataframe tbody tr th {\n",
       "        vertical-align: top;\n",
       "    }\n",
       "\n",
       "    .dataframe thead th {\n",
       "        text-align: right;\n",
       "    }\n",
       "</style>\n",
       "<table border=\"1\" class=\"dataframe\">\n",
       "  <thead>\n",
       "    <tr style=\"text-align: right;\">\n",
       "      <th></th>\n",
       "      <th>order_id</th>\n",
       "      <th>customer_id</th>\n",
       "      <th>restaurant_name</th>\n",
       "      <th>cuisine_type</th>\n",
       "      <th>cost_of_the_order</th>\n",
       "      <th>day_of_the_week</th>\n",
       "      <th>rating</th>\n",
       "      <th>food_preparation_time</th>\n",
       "      <th>delivery_time</th>\n",
       "    </tr>\n",
       "  </thead>\n",
       "  <tbody>\n",
       "    <tr>\n",
       "      <th>0</th>\n",
       "      <td>1477147</td>\n",
       "      <td>337525</td>\n",
       "      <td>Hangawi</td>\n",
       "      <td>Korean</td>\n",
       "      <td>30.75</td>\n",
       "      <td>Weekend</td>\n",
       "      <td>Not given</td>\n",
       "      <td>25</td>\n",
       "      <td>20</td>\n",
       "    </tr>\n",
       "    <tr>\n",
       "      <th>1</th>\n",
       "      <td>1477685</td>\n",
       "      <td>358141</td>\n",
       "      <td>Blue Ribbon Sushi Izakaya</td>\n",
       "      <td>Japanese</td>\n",
       "      <td>12.08</td>\n",
       "      <td>Weekend</td>\n",
       "      <td>Not given</td>\n",
       "      <td>25</td>\n",
       "      <td>23</td>\n",
       "    </tr>\n",
       "    <tr>\n",
       "      <th>2</th>\n",
       "      <td>1477070</td>\n",
       "      <td>66393</td>\n",
       "      <td>Cafe Habana</td>\n",
       "      <td>Mexican</td>\n",
       "      <td>12.23</td>\n",
       "      <td>Weekday</td>\n",
       "      <td>5</td>\n",
       "      <td>23</td>\n",
       "      <td>28</td>\n",
       "    </tr>\n",
       "    <tr>\n",
       "      <th>3</th>\n",
       "      <td>1477334</td>\n",
       "      <td>106968</td>\n",
       "      <td>Blue Ribbon Fried Chicken</td>\n",
       "      <td>American</td>\n",
       "      <td>29.20</td>\n",
       "      <td>Weekend</td>\n",
       "      <td>3</td>\n",
       "      <td>25</td>\n",
       "      <td>15</td>\n",
       "    </tr>\n",
       "    <tr>\n",
       "      <th>4</th>\n",
       "      <td>1478249</td>\n",
       "      <td>76942</td>\n",
       "      <td>Dirty Bird to Go</td>\n",
       "      <td>American</td>\n",
       "      <td>11.59</td>\n",
       "      <td>Weekday</td>\n",
       "      <td>4</td>\n",
       "      <td>25</td>\n",
       "      <td>24</td>\n",
       "    </tr>\n",
       "  </tbody>\n",
       "</table>\n",
       "</div>"
      ],
      "text/plain": [
       "   order_id  customer_id            restaurant_name cuisine_type  \\\n",
       "0   1477147       337525                    Hangawi       Korean   \n",
       "1   1477685       358141  Blue Ribbon Sushi Izakaya     Japanese   \n",
       "2   1477070        66393                Cafe Habana      Mexican   \n",
       "3   1477334       106968  Blue Ribbon Fried Chicken     American   \n",
       "4   1478249        76942           Dirty Bird to Go     American   \n",
       "\n",
       "   cost_of_the_order day_of_the_week     rating  food_preparation_time  \\\n",
       "0              30.75         Weekend  Not given                     25   \n",
       "1              12.08         Weekend  Not given                     25   \n",
       "2              12.23         Weekday          5                     23   \n",
       "3              29.20         Weekend          3                     25   \n",
       "4              11.59         Weekday          4                     25   \n",
       "\n",
       "   delivery_time  \n",
       "0             20  \n",
       "1             23  \n",
       "2             28  \n",
       "3             15  \n",
       "4             24  "
      ]
     },
     "execution_count": 3,
     "metadata": {},
     "output_type": "execute_result"
    }
   ],
   "source": [
    "# read the data\n",
    "df = pd.read_csv('foodhub_order.csv')\n",
    "# returns the first 5 rows\n",
    "df.head()"
   ]
  },
  {
   "cell_type": "markdown",
   "metadata": {
    "id": "J_Y9aJDJJY_P"
   },
   "source": [
    "#### Observations:\n",
    "\n",
    "The DataFrame has 9 columns as mentioned in the Data Dictionary. Data in each row corresponds to the order placed by a customer."
   ]
  },
  {
   "cell_type": "markdown",
   "metadata": {
    "id": "c3kenV4vJY_Q"
   },
   "source": [
    "### **Question 1:** How many rows and columns are present in the data? [0.5 mark]"
   ]
  },
  {
   "cell_type": "code",
   "execution_count": 176,
   "metadata": {
    "id": "Yvz5i-PhJY_Q"
   },
   "outputs": [
    {
     "data": {
      "text/plain": [
       "(1898, 10)"
      ]
     },
     "execution_count": 176,
     "metadata": {},
     "output_type": "execute_result"
    }
   ],
   "source": [
    "df.shape"
   ]
  },
  {
   "cell_type": "markdown",
   "metadata": {
    "id": "UsTNy3unJY_R"
   },
   "source": [
    "Observations: There are 1898 rows and 9 columns in this data dictionary."
   ]
  },
  {
   "cell_type": "markdown",
   "metadata": {},
   "source": [
    "Total number of Rows: 1898"
   ]
  },
  {
   "cell_type": "markdown",
   "metadata": {},
   "source": [
    "Total number of Columns: 9"
   ]
  },
  {
   "cell_type": "markdown",
   "metadata": {
    "id": "jRXakVrUJY_R"
   },
   "source": [
    "### **Question 2:** What are the datatypes of the different columns in the dataset? (The info() function can be used) [0.5 mark]"
   ]
  },
  {
   "cell_type": "code",
   "execution_count": 5,
   "metadata": {
    "id": "Kp70Z0BNJY_R"
   },
   "outputs": [
    {
     "name": "stdout",
     "output_type": "stream",
     "text": [
      "<class 'pandas.core.frame.DataFrame'>\n",
      "RangeIndex: 1898 entries, 0 to 1897\n",
      "Data columns (total 9 columns):\n",
      " #   Column                 Non-Null Count  Dtype  \n",
      "---  ------                 --------------  -----  \n",
      " 0   order_id               1898 non-null   int64  \n",
      " 1   customer_id            1898 non-null   int64  \n",
      " 2   restaurant_name        1898 non-null   object \n",
      " 3   cuisine_type           1898 non-null   object \n",
      " 4   cost_of_the_order      1898 non-null   float64\n",
      " 5   day_of_the_week        1898 non-null   object \n",
      " 6   rating                 1898 non-null   object \n",
      " 7   food_preparation_time  1898 non-null   int64  \n",
      " 8   delivery_time          1898 non-null   int64  \n",
      "dtypes: float64(1), int64(4), object(4)\n",
      "memory usage: 133.6+ KB\n"
     ]
    }
   ],
   "source": [
    "# Use info() to print a concise summary of the DataFrame\n",
    "df.info()"
   ]
  },
  {
   "cell_type": "markdown",
   "metadata": {
    "id": "WJes5GP2JY_S"
   },
   "source": [
    "#### Observations:\n"
   ]
  },
  {
   "cell_type": "markdown",
   "metadata": {
    "id": "pF_92MN6JY_S"
   },
   "source": [
    "### **Question 3:** Are there any missing values in the data? If yes, treat them using an appropriate method. [1 mark]"
   ]
  },
  {
   "cell_type": "code",
   "execution_count": 177,
   "metadata": {
    "id": "Zth-RR1PJY_S"
   },
   "outputs": [
    {
     "data": {
      "text/plain": [
       "order_id                 0\n",
       "customer_id              0\n",
       "restaurant_name          0\n",
       "cuisine_type             0\n",
       "cost_of_the_order        0\n",
       "day_of_the_week          0\n",
       "rating                   0\n",
       "food_preparation_time    0\n",
       "delivery_time            0\n",
       "total_time               0\n",
       "dtype: int64"
      ]
     },
     "execution_count": 177,
     "metadata": {},
     "output_type": "execute_result"
    }
   ],
   "source": [
    "df.isnull().sum()"
   ]
  },
  {
   "cell_type": "markdown",
   "metadata": {
    "id": "jDHT3vD1JY_S"
   },
   "source": [
    "#### Observations:\n",
    "There are no columns that have null or empty records.\n",
    "\n",
    "There are no missing values in the dataset"
   ]
  },
  {
   "cell_type": "markdown",
   "metadata": {
    "id": "MnJo7MWrJY_S"
   },
   "source": [
    "### **Question 4:** Check the statistical summary of the data. What is the minimum, average, and maximum time it takes for food to be prepared once an order is placed? [2 marks]"
   ]
  },
  {
   "cell_type": "code",
   "execution_count": 7,
   "metadata": {
    "id": "WprQBgOSJY_T",
    "scrolled": true
   },
   "outputs": [
    {
     "data": {
      "text/plain": [
       "count    1898.000000\n",
       "mean       27.371970\n",
       "std         4.632481\n",
       "min        20.000000\n",
       "25%        23.000000\n",
       "50%        27.000000\n",
       "75%        31.000000\n",
       "max        35.000000\n",
       "Name: food_preparation_time, dtype: float64"
      ]
     },
     "execution_count": 7,
     "metadata": {},
     "output_type": "execute_result"
    }
   ],
   "source": [
    "# Write your code here\n",
    "# Using the describe function on the column 'food_preparation_time' : df.describe().T\n",
    "\n",
    "df['food_preparation_time'].describe().T"
   ]
  },
  {
   "cell_type": "markdown",
   "metadata": {
    "id": "9YbSOR5wJY_T"
   },
   "source": [
    "#### Observations: \n",
    "Minimum food prepation time : 20 mins\n",
    "\n",
    "Average food prepation time : 27.37 min\n",
    "\n",
    "Maximum food prepation time : 35 mins"
   ]
  },
  {
   "cell_type": "markdown",
   "metadata": {
    "id": "cw3l58z_JY_T"
   },
   "source": [
    "### **Question 5:** How many orders are not rated? [1 mark]"
   ]
  },
  {
   "cell_type": "code",
   "execution_count": 178,
   "metadata": {
    "id": "hEzDUL9wgksi"
   },
   "outputs": [
    {
     "data": {
      "text/plain": [
       "Not given    736\n",
       "5            588\n",
       "4            386\n",
       "3            188\n",
       "Name: rating, dtype: int64"
      ]
     },
     "execution_count": 178,
     "metadata": {},
     "output_type": "execute_result"
    }
   ],
   "source": [
    "df['rating'].value_counts()"
   ]
  },
  {
   "cell_type": "markdown",
   "metadata": {
    "id": "5E0O_oviJY_T"
   },
   "source": [
    "#### Observations:\n",
    "Total number of orders not rated are: 736\n",
    "\n",
    "The lowest rating given is 3 and the highest rating given is 5."
   ]
  },
  {
   "cell_type": "markdown",
   "metadata": {
    "id": "7msIfXE-JY_T"
   },
   "source": [
    "### Exploratory Data Analysis (EDA)"
   ]
  },
  {
   "cell_type": "markdown",
   "metadata": {
    "id": "-2xfI28YJY_T"
   },
   "source": [
    "### Univariate Analysis"
   ]
  },
  {
   "cell_type": "markdown",
   "metadata": {
    "id": "0RHZnugBJY_U"
   },
   "source": [
    "### **Question 6:** Explore all the variables and provide observations on their distributions. (Generally, histograms, boxplots, countplots, etc. are used for univariate exploration.) [9 marks]"
   ]
  },
  {
   "cell_type": "code",
   "execution_count": 9,
   "metadata": {
    "id": "rU5ZqISjJY_U"
   },
   "outputs": [
    {
     "data": {
      "text/html": [
       "<div>\n",
       "<style scoped>\n",
       "    .dataframe tbody tr th:only-of-type {\n",
       "        vertical-align: middle;\n",
       "    }\n",
       "\n",
       "    .dataframe tbody tr th {\n",
       "        vertical-align: top;\n",
       "    }\n",
       "\n",
       "    .dataframe thead th {\n",
       "        text-align: right;\n",
       "    }\n",
       "</style>\n",
       "<table border=\"1\" class=\"dataframe\">\n",
       "  <thead>\n",
       "    <tr style=\"text-align: right;\">\n",
       "      <th></th>\n",
       "      <th>order_id</th>\n",
       "      <th>customer_id</th>\n",
       "      <th>restaurant_name</th>\n",
       "      <th>cuisine_type</th>\n",
       "      <th>cost_of_the_order</th>\n",
       "      <th>day_of_the_week</th>\n",
       "      <th>rating</th>\n",
       "      <th>food_preparation_time</th>\n",
       "      <th>delivery_time</th>\n",
       "    </tr>\n",
       "  </thead>\n",
       "  <tbody>\n",
       "    <tr>\n",
       "      <th>0</th>\n",
       "      <td>1477147</td>\n",
       "      <td>337525</td>\n",
       "      <td>Hangawi</td>\n",
       "      <td>Korean</td>\n",
       "      <td>30.75</td>\n",
       "      <td>Weekend</td>\n",
       "      <td>Not given</td>\n",
       "      <td>25</td>\n",
       "      <td>20</td>\n",
       "    </tr>\n",
       "    <tr>\n",
       "      <th>1</th>\n",
       "      <td>1477685</td>\n",
       "      <td>358141</td>\n",
       "      <td>Blue Ribbon Sushi Izakaya</td>\n",
       "      <td>Japanese</td>\n",
       "      <td>12.08</td>\n",
       "      <td>Weekend</td>\n",
       "      <td>Not given</td>\n",
       "      <td>25</td>\n",
       "      <td>23</td>\n",
       "    </tr>\n",
       "    <tr>\n",
       "      <th>2</th>\n",
       "      <td>1477070</td>\n",
       "      <td>66393</td>\n",
       "      <td>Cafe Habana</td>\n",
       "      <td>Mexican</td>\n",
       "      <td>12.23</td>\n",
       "      <td>Weekday</td>\n",
       "      <td>5</td>\n",
       "      <td>23</td>\n",
       "      <td>28</td>\n",
       "    </tr>\n",
       "    <tr>\n",
       "      <th>3</th>\n",
       "      <td>1477334</td>\n",
       "      <td>106968</td>\n",
       "      <td>Blue Ribbon Fried Chicken</td>\n",
       "      <td>American</td>\n",
       "      <td>29.20</td>\n",
       "      <td>Weekend</td>\n",
       "      <td>3</td>\n",
       "      <td>25</td>\n",
       "      <td>15</td>\n",
       "    </tr>\n",
       "    <tr>\n",
       "      <th>4</th>\n",
       "      <td>1478249</td>\n",
       "      <td>76942</td>\n",
       "      <td>Dirty Bird to Go</td>\n",
       "      <td>American</td>\n",
       "      <td>11.59</td>\n",
       "      <td>Weekday</td>\n",
       "      <td>4</td>\n",
       "      <td>25</td>\n",
       "      <td>24</td>\n",
       "    </tr>\n",
       "  </tbody>\n",
       "</table>\n",
       "</div>"
      ],
      "text/plain": [
       "   order_id  customer_id            restaurant_name cuisine_type  \\\n",
       "0   1477147       337525                    Hangawi       Korean   \n",
       "1   1477685       358141  Blue Ribbon Sushi Izakaya     Japanese   \n",
       "2   1477070        66393                Cafe Habana      Mexican   \n",
       "3   1477334       106968  Blue Ribbon Fried Chicken     American   \n",
       "4   1478249        76942           Dirty Bird to Go     American   \n",
       "\n",
       "   cost_of_the_order day_of_the_week     rating  food_preparation_time  \\\n",
       "0              30.75         Weekend  Not given                     25   \n",
       "1              12.08         Weekend  Not given                     25   \n",
       "2              12.23         Weekday          5                     23   \n",
       "3              29.20         Weekend          3                     25   \n",
       "4              11.59         Weekday          4                     25   \n",
       "\n",
       "   delivery_time  \n",
       "0             20  \n",
       "1             23  \n",
       "2             28  \n",
       "3             15  \n",
       "4             24  "
      ]
     },
     "execution_count": 9,
     "metadata": {},
     "output_type": "execute_result"
    }
   ],
   "source": [
    "df.head()"
   ]
  },
  {
   "cell_type": "markdown",
   "metadata": {},
   "source": [
    "#### For univariate data analysis, following can be reviewed for each data series / column:\n",
    "1. Restaurant with the maximum number of orders (Most popular restaurant)\n",
    "2. Listing number of unique restaurants\n",
    "3. Unique restaurant names \n",
    "4. Unique cuisine types\n",
    "5. Total Unique customers count\n",
    "6. Total Unique customers orders and inference Max and min customer orders.\n",
    "7. Total number of orders\n",
    "8. Weekday / Weekend - identifying most popular food ordering day pattern (Rush hour/day)\n",
    "9. Unique ratings\n",
    "10.  The cost distibution\n",
    "11. Food preparation time \n",
    "\n"
   ]
  },
  {
   "cell_type": "markdown",
   "metadata": {
    "id": "5E0O_oviJY_T"
   },
   "source": [
    "##### 1. Restaurant with the maximum number of orders (Most popular restaurant)"
   ]
  },
  {
   "cell_type": "code",
   "execution_count": 179,
   "metadata": {},
   "outputs": [
    {
     "data": {
      "image/png": "[encoded data removed]",
      "text/plain": [
       "<Figure size 1500x500 with 1 Axes>"
      ]
     },
     "metadata": {},
     "output_type": "display_data"
    }
   ],
   "source": [
    "# 1. Restaurant with the maximum number of orders (Most popular restaurant)\n",
    "#df['restaurant_name'].value_counts() >100\n",
    "\n",
    "# Creating a countplot of restaurants that have received more than 50 orders.\n",
    "plt.figure(figsize = (15,5))\n",
    "popular_restaurants = df[df['restaurant_name'].map(df['restaurant_name'].value_counts()) > 50]\n",
    "sns.countplot(data = popular_restaurants, x = 'restaurant_name'); "
   ]
  },
  {
   "cell_type": "markdown",
   "metadata": {
    "id": "5E0O_oviJY_T"
   },
   "source": [
    "#### Observations:\n",
    "1. The MOST POPULAR restaurant is <b>Shake Shack</b> with maximum number of orders.\n",
    "2. The <b> Meatball Shop </b> is the second highest ordered restaurant."
   ]
  },
  {
   "cell_type": "markdown",
   "metadata": {
    "id": "5E0O_oviJY_T"
   },
   "source": [
    "##### 2. Listing number of unique restaurants\n"
   ]
  },
  {
   "cell_type": "code",
   "execution_count": 180,
   "metadata": {},
   "outputs": [
    {
     "data": {
      "text/plain": [
       "178"
      ]
     },
     "execution_count": 180,
     "metadata": {},
     "output_type": "execute_result"
    }
   ],
   "source": [
    "df['restaurant_name'].nunique()  "
   ]
  },
  {
   "cell_type": "markdown",
   "metadata": {
    "id": "5E0O_oviJY_T"
   },
   "source": [
    "#### Observations:\n",
    "\n",
    "There are a tolal of 178 unique restaurants in the dataset."
   ]
  },
  {
   "cell_type": "markdown",
   "metadata": {
    "id": "5E0O_oviJY_T"
   },
   "source": [
    "##### 3. Listing number of unique restaurants\n"
   ]
  },
  {
   "cell_type": "code",
   "execution_count": 181,
   "metadata": {},
   "outputs": [
    {
     "data": {
      "text/plain": [
       "['Hangawi',\n",
       " 'Blue Ribbon Sushi Izakaya',\n",
       " 'Cafe Habana',\n",
       " 'Blue Ribbon Fried Chicken',\n",
       " 'Dirty Bird to Go',\n",
       " 'Tamarind TriBeCa',\n",
       " 'The Meatball Shop',\n",
       " 'Barbounia',\n",
       " 'Anjappar Chettinad',\n",
       " 'Bukhara Grill',\n",
       " 'Big Wong Restaurant \\x8c_¤¾Ñ¼',\n",
       " 'Empanada Mama (closed)',\n",
       " 'Pylos',\n",
       " \"Lucky's Famous Burgers\",\n",
       " 'Shake Shack',\n",
       " 'Sushi of Gari',\n",
       " 'RedFarm Hudson',\n",
       " 'Blue Ribbon Sushi',\n",
       " 'Five Guys Burgers and Fries',\n",
       " 'Tortaria',\n",
       " 'Cafe Mogador',\n",
       " 'Otto Enoteca Pizzeria',\n",
       " 'Vezzo Thin Crust Pizza',\n",
       " 'Sushi of Gari 46',\n",
       " 'The Kati Roll Company',\n",
       " 'Klong',\n",
       " '5 Napkin Burger',\n",
       " 'TAO',\n",
       " 'Parm',\n",
       " 'Sushi Samba',\n",
       " 'Haru Gramercy Park',\n",
       " 'Chipotle Mexican Grill $1.99 Delivery',\n",
       " 'RedFarm Broadway',\n",
       " 'Cafeteria',\n",
       " 'DuMont Burger',\n",
       " \"Sarabeth's East\",\n",
       " 'Hill Country Fried Chicken',\n",
       " 'Bistango',\n",
       " \"Jack's Wife Freda\",\n",
       " \"Mamoun's Falafel\",\n",
       " 'Prosperity Dumpling',\n",
       " 'Blue Ribbon Sushi Bar & Grill',\n",
       " 'Westville Hudson',\n",
       " 'Blue Ribbon Brooklyn',\n",
       " 'Nobu Next Door',\n",
       " 'Osteria Morini',\n",
       " 'Haandi',\n",
       " 'Benihana',\n",
       " 'Han Dynasty',\n",
       " 'Chote Nawab',\n",
       " 'Mission Cantina',\n",
       " \"Xi'an Famous Foods\",\n",
       " 'Rubirosa',\n",
       " \"Joe's Shanghai \\x8e_À\\x8eü£¾÷´\",\n",
       " 'Bareburger',\n",
       " 'The Odeon',\n",
       " 'Pongsri Thai',\n",
       " 'Yama Japanese Restaurant',\n",
       " 'Momoya',\n",
       " 'Balthazar Boulangerie',\n",
       " 'CafÌ© China',\n",
       " 'Boqueria',\n",
       " 'Song Thai Restaurant & Bar',\n",
       " 'Five Leaves',\n",
       " 'Pinto Nouveau Thai Bistro',\n",
       " \"Amy Ruth's\",\n",
       " 'Pepe Giallo',\n",
       " 'indikitch',\n",
       " 'Yama 49',\n",
       " 'Piccolo Angolo',\n",
       " 'Pepe Rosso To Go',\n",
       " \"L'Express\",\n",
       " 'Amma',\n",
       " 'Delicatessen',\n",
       " \"S'MAC\",\n",
       " \"Vanessa's Dumplings\",\n",
       " 'Bhatti Indian Grill',\n",
       " 'Taro Sushi',\n",
       " 'Donburi-ya',\n",
       " 'Hatsuhana',\n",
       " 'Samurai Mama',\n",
       " 'Waverly Diner',\n",
       " 'Tarallucci e Vino Restaurant',\n",
       " \"P.J. Clarke's\",\n",
       " 'Lantern Thai Kitchen',\n",
       " 'ilili Restaurant',\n",
       " 'The Smile',\n",
       " \"Vanessa's Dumpling House\",\n",
       " \"Bubby's \",\n",
       " 'Woorijip',\n",
       " 'Dirty Bird To Go (archived)',\n",
       " 'Haveli Indian Restaurant',\n",
       " 'Dos Caminos',\n",
       " 'da Umberto',\n",
       " 'Sushi of Gari Tribeca',\n",
       " 'Burger Joint',\n",
       " 'Room Service',\n",
       " \"Sarabeth's Restaurant\",\n",
       " 'Xe May Sandwich Shop',\n",
       " 'Hibino',\n",
       " 'Mira Sushi',\n",
       " 'Melt Shop',\n",
       " 'J. G. Melon',\n",
       " 'Hummus Place',\n",
       " 'Saravanaa Bhavan',\n",
       " 'Friend of a Farmer',\n",
       " 'The Loop',\n",
       " 'Balade',\n",
       " 'Posto',\n",
       " 'Terakawa Ramen',\n",
       " 'Kambi Ramen House',\n",
       " 'Wo Hop Restaurant',\n",
       " 'Spice Thai',\n",
       " \"Dickson's Farmstand Meats\",\n",
       " 'UVA Wine Bar & Restaurant',\n",
       " 'Serafina Fabulous Pizza',\n",
       " 'Gaia Italian Cafe',\n",
       " 'Chola Eclectic Indian Cuisine',\n",
       " 'Hot Kitchen',\n",
       " 'Junoon',\n",
       " 'Ravagh Persian Grill',\n",
       " 'Rohm Thai',\n",
       " 'Dig Inn Seasonal Market',\n",
       " 'Olea',\n",
       " 'Cho Dang Gol',\n",
       " 'El Parador Cafe',\n",
       " 'Socarrat Paella Bar',\n",
       " \"Don's Bogam BBQ & Wine Bar\",\n",
       " 'Alidoro',\n",
       " \"Tony's Di Napoli\",\n",
       " 'Cipriani Le Specialita',\n",
       " 'Sushi Choshi',\n",
       " 'Kanoyama',\n",
       " 'V-Nam Cafe',\n",
       " 'Zero Otto Nove',\n",
       " 'Dos Caminos Soho',\n",
       " 'Go! Go! Curry!',\n",
       " 'La Follia',\n",
       " 'Izakaya Ten',\n",
       " '12 Chairs',\n",
       " 'Philippe Chow',\n",
       " 'The MasalaWala',\n",
       " 'brgr',\n",
       " \"Carmine's\",\n",
       " 'Asuka Sushi',\n",
       " 'Aurora',\n",
       " \"Sarabeth's\",\n",
       " 'Crema Restaurante',\n",
       " \"Big Daddy's\",\n",
       " 'Moonstruck on Second',\n",
       " 'Cafe de La Esquina',\n",
       " 'Olive Garden',\n",
       " '67 Burger',\n",
       " 'Tres Carnes',\n",
       " \"Schnipper's Quality Kitchen\",\n",
       " 'Nha Trang One',\n",
       " 'Market Table',\n",
       " 'Galli Restaurant',\n",
       " 'Hampton Chutney Co.',\n",
       " 'Byblos Restaurant',\n",
       " 'Grand Sichuan International',\n",
       " 'Le Grainne Cafe',\n",
       " 'Il Bambino',\n",
       " 'Kori Restaurant and Bar',\n",
       " 'DespaÌ±a',\n",
       " 'Lamarca Pasta',\n",
       " 'Lucky Strike',\n",
       " \"Paul & Jimmy's\",\n",
       " 'Hunan Manor',\n",
       " \"Coppola's East\",\n",
       " 'Emporio',\n",
       " 'Wa Jeal',\n",
       " 'Le Zie 2000 Trattoria',\n",
       " 'Rye House',\n",
       " \"Hiroko's Place\",\n",
       " 'Frank Restaurant',\n",
       " \"Sarabeth's West\",\n",
       " \"'wichcraft\"]"
      ]
     },
     "execution_count": 181,
     "metadata": {},
     "output_type": "execute_result"
    }
   ],
   "source": [
    "df['restaurant_name'].unique().tolist()\n"
   ]
  },
  {
   "cell_type": "markdown",
   "metadata": {
    "id": "5E0O_oviJY_T"
   },
   "source": [
    "##### 4. Unique cuisine types\n"
   ]
  },
  {
   "cell_type": "code",
   "execution_count": 13,
   "metadata": {},
   "outputs": [
    {
     "data": {
      "text/plain": [
       "['Korean',\n",
       " 'Japanese',\n",
       " 'Mexican',\n",
       " 'American',\n",
       " 'Indian',\n",
       " 'Italian',\n",
       " 'Mediterranean',\n",
       " 'Chinese',\n",
       " 'Middle Eastern',\n",
       " 'Thai',\n",
       " 'Southern',\n",
       " 'French',\n",
       " 'Spanish',\n",
       " 'Vietnamese']"
      ]
     },
     "execution_count": 13,
     "metadata": {},
     "output_type": "execute_result"
    }
   ],
   "source": [
    "df['cuisine_type'].unique().tolist()"
   ]
  },
  {
   "cell_type": "markdown",
   "metadata": {
    "id": "5E0O_oviJY_T"
   },
   "source": [
    "##### 5. Total Unique customers count\n"
   ]
  },
  {
   "cell_type": "code",
   "execution_count": 14,
   "metadata": {},
   "outputs": [
    {
     "data": {
      "text/plain": [
       "1200"
      ]
     },
     "execution_count": 14,
     "metadata": {},
     "output_type": "execute_result"
    }
   ],
   "source": [
    "df['customer_id'].nunique()"
   ]
  },
  {
   "cell_type": "markdown",
   "metadata": {},
   "source": [
    "There were a total of 1200 customers that placed a total of 1898 orders (from df.shape)"
   ]
  },
  {
   "cell_type": "markdown",
   "metadata": {
    "id": "5E0O_oviJY_T"
   },
   "source": [
    "##### 6. Total Unique customers orders and inference Max and min customer orders.\n"
   ]
  },
  {
   "cell_type": "code",
   "execution_count": 15,
   "metadata": {},
   "outputs": [
    {
     "data": {
      "text/plain": [
       "52832     13\n",
       "47440     10\n",
       "83287      9\n",
       "250494     8\n",
       "259341     7\n",
       "          ..\n",
       "385426     1\n",
       "254913     1\n",
       "289597     1\n",
       "74412      1\n",
       "397537     1\n",
       "Name: customer_id, Length: 1200, dtype: int64"
      ]
     },
     "execution_count": 15,
     "metadata": {},
     "output_type": "execute_result"
    }
   ],
   "source": [
    "# 6. Total Unique customers orders and inference Max and min customer orders.\n",
    "df['customer_id'].value_counts()"
   ]
  },
  {
   "cell_type": "markdown",
   "metadata": {
    "id": "5E0O_oviJY_T"
   },
   "source": [
    "#### Observations:\n",
    "1. The maximum number of orders placed by a cutomer is 13 orders and least order coutn is 1.\n",
    "2. This would help us identify the high value customers. \n",
    "3. Customer's that order more and the popular cuisines as well that are getting ordered multiple times."
   ]
  },
  {
   "cell_type": "markdown",
   "metadata": {
    "id": "5E0O_oviJY_T"
   },
   "source": [
    "##### 7. Total number of orders\n"
   ]
  },
  {
   "cell_type": "code",
   "execution_count": 16,
   "metadata": {},
   "outputs": [
    {
     "data": {
      "text/plain": [
       "(1898, 9)"
      ]
     },
     "execution_count": 16,
     "metadata": {},
     "output_type": "execute_result"
    }
   ],
   "source": [
    "df.shape\n",
    "\n",
    "# There are a total of 1898 orders placed from the order list"
   ]
  },
  {
   "cell_type": "markdown",
   "metadata": {
    "id": "5E0O_oviJY_T"
   },
   "source": [
    "##### 8. Weekday / Weekend - identifying most popular food ordering day pattern (Rush hour/day)\n"
   ]
  },
  {
   "cell_type": "code",
   "execution_count": 17,
   "metadata": {},
   "outputs": [
    {
     "data": {
      "text/plain": [
       "Weekend    1351\n",
       "Weekday     547\n",
       "Name: day_of_the_week, dtype: int64"
      ]
     },
     "execution_count": 17,
     "metadata": {},
     "output_type": "execute_result"
    }
   ],
   "source": [
    "#8. Weekday / Weekend - identifying most popular food ordering day pattern (Rush hour/day)\n",
    "\n",
    "df['day_of_the_week'].value_counts()"
   ]
  },
  {
   "cell_type": "code",
   "execution_count": 18,
   "metadata": {},
   "outputs": [
    {
     "data": {
      "image/png": "[encoded data removed]",
      "text/plain": [
       "<Figure size 640x480 with 1 Axes>"
      ]
     },
     "metadata": {},
     "output_type": "display_data"
    }
   ],
   "source": [
    "sns.histplot(data=df,x='day_of_the_week')\n",
    "plt.show()"
   ]
  },
  {
   "cell_type": "markdown",
   "metadata": {
    "id": "5E0O_oviJY_T"
   },
   "source": [
    "#### Observations:\n",
    "Based on the value count, customers have placed more orders on the weekend than on weekdays"
   ]
  },
  {
   "cell_type": "markdown",
   "metadata": {
    "id": "5E0O_oviJY_T"
   },
   "source": [
    "##### 9. Unique ratings count\n"
   ]
  },
  {
   "cell_type": "code",
   "execution_count": 19,
   "metadata": {},
   "outputs": [
    {
     "data": {
      "text/plain": [
       "Not given    736\n",
       "5            588\n",
       "4            386\n",
       "3            188\n",
       "Name: rating, dtype: int64"
      ]
     },
     "execution_count": 19,
     "metadata": {},
     "output_type": "execute_result"
    }
   ],
   "source": [
    "#9. Unique ratings\n",
    "df['rating'].value_counts()"
   ]
  },
  {
   "cell_type": "code",
   "execution_count": 20,
   "metadata": {},
   "outputs": [
    {
     "data": {
      "image/png": "[encoded data removed]",
      "text/plain": [
       "<Figure size 640x480 with 1 Axes>"
      ]
     },
     "metadata": {},
     "output_type": "display_data"
    }
   ],
   "source": [
    "sns.histplot(data=df,x='rating')\n",
    "plt.show()"
   ]
  },
  {
   "cell_type": "markdown",
   "metadata": {},
   "source": [
    "##### Observations:\n",
    "1. These are the number of ratings counts that have been given so far.\n",
    "2. Most of the users have not given any ratings to the orders\n",
    "3. None of the users have rated the restaurants below 3"
   ]
  },
  {
   "cell_type": "markdown",
   "metadata": {
    "id": "5E0O_oviJY_T"
   },
   "source": [
    "##### 10. The cost distibution\n"
   ]
  },
  {
   "cell_type": "code",
   "execution_count": 21,
   "metadata": {},
   "outputs": [
    {
     "data": {
      "image/png": "[encoded data removed]",
      "text/plain": [
       "<Figure size 640x480 with 1 Axes>"
      ]
     },
     "metadata": {},
     "output_type": "display_data"
    },
    {
     "data": {
      "image/png": "[encoded data removed]",
      "text/plain": [
       "<Figure size 640x480 with 1 Axes>"
      ]
     },
     "metadata": {},
     "output_type": "display_data"
    }
   ],
   "source": [
    "#10. The cost distibution count\n",
    "\n",
    "sns.histplot(data=df,x='cost_of_the_order')\n",
    "plt.show()\n",
    "sns.boxplot(data=df,x='cost_of_the_order')\n",
    "plt.show()"
   ]
  },
  {
   "cell_type": "markdown",
   "metadata": {},
   "source": [
    "##### Observations:\n",
    "\n",
    "This gives us the median amount spent by most of the customers.\n",
    "\n",
    "1. From the above graph, we can see that the around 350customers spend around $11 on an order.\n",
    "2. Ther are no outliers in the restaurants with some very expensive dishes getting ordered.\n"
   ]
  },
  {
   "cell_type": "markdown",
   "metadata": {
    "id": "5E0O_oviJY_T"
   },
   "source": [
    "##### 11. Food preparation time\n"
   ]
  },
  {
   "cell_type": "code",
   "execution_count": 22,
   "metadata": {},
   "outputs": [
    {
     "data": {
      "image/png": "[encoded data removed]",
      "text/plain": [
       "<Figure size 640x480 with 1 Axes>"
      ]
     },
     "metadata": {},
     "output_type": "display_data"
    },
    {
     "data": {
      "image/png": "[encoded data removed]",
      "text/plain": [
       "<Figure size 640x480 with 1 Axes>"
      ]
     },
     "metadata": {},
     "output_type": "display_data"
    }
   ],
   "source": [
    "# (11) Food preparation time \n",
    "\n",
    "sns.histplot(data=df,x='food_preparation_time')\n",
    "plt.show()\n",
    "sns.boxplot(data=df,x='food_preparation_time')\n",
    "plt.show()"
   ]
  },
  {
   "cell_type": "markdown",
   "metadata": {},
   "source": [
    "##### Observations:\n",
    "1. The average time to prepare food is 27 minutes.\n",
    "2. Minimum time to prepare food taken by the restaurants is 21 minutes and most of the restaurants prepare the food \n",
    "very fast.\n",
    "3. There are no outliers in the food preparation time."
   ]
  },
  {
   "cell_type": "code",
   "execution_count": 23,
   "metadata": {},
   "outputs": [
    {
     "data": {
      "text/plain": [
       "Shake Shack                  219\n",
       "The Meatball Shop            132\n",
       "Blue Ribbon Sushi            119\n",
       "Blue Ribbon Fried Chicken     96\n",
       "Parm                          68\n",
       "                            ... \n",
       "Sushi Choshi                   1\n",
       "Dos Caminos Soho               1\n",
       "La Follia                      1\n",
       "Philippe Chow                  1\n",
       "'wichcraft                     1\n",
       "Name: restaurant_name, Length: 178, dtype: int64"
      ]
     },
     "execution_count": 23,
     "metadata": {},
     "output_type": "execute_result"
    }
   ],
   "source": [
    "# Similarly, the least famous restaurant (not by the ratings, but the number of orders received.)\n",
    "# Getting a value count of the number of times a restaurant got an order.\n",
    "df['restaurant_name'].value_counts()"
   ]
  },
  {
   "cell_type": "code",
   "execution_count": 24,
   "metadata": {},
   "outputs": [
    {
     "data": {
      "text/html": [
       "<div>\n",
       "<style scoped>\n",
       "    .dataframe tbody tr th:only-of-type {\n",
       "        vertical-align: middle;\n",
       "    }\n",
       "\n",
       "    .dataframe tbody tr th {\n",
       "        vertical-align: top;\n",
       "    }\n",
       "\n",
       "    .dataframe thead th {\n",
       "        text-align: right;\n",
       "    }\n",
       "</style>\n",
       "<table border=\"1\" class=\"dataframe\">\n",
       "  <thead>\n",
       "    <tr style=\"text-align: right;\">\n",
       "      <th></th>\n",
       "      <th>count</th>\n",
       "      <th>unique</th>\n",
       "      <th>top</th>\n",
       "      <th>freq</th>\n",
       "      <th>mean</th>\n",
       "      <th>std</th>\n",
       "      <th>min</th>\n",
       "      <th>25%</th>\n",
       "      <th>50%</th>\n",
       "      <th>75%</th>\n",
       "      <th>max</th>\n",
       "    </tr>\n",
       "  </thead>\n",
       "  <tbody>\n",
       "    <tr>\n",
       "      <th>order_id</th>\n",
       "      <td>1898.0</td>\n",
       "      <td>NaN</td>\n",
       "      <td>NaN</td>\n",
       "      <td>NaN</td>\n",
       "      <td>1477495.5</td>\n",
       "      <td>548.049724</td>\n",
       "      <td>1476547.0</td>\n",
       "      <td>1477021.25</td>\n",
       "      <td>1477495.5</td>\n",
       "      <td>1477969.75</td>\n",
       "      <td>1478444.0</td>\n",
       "    </tr>\n",
       "    <tr>\n",
       "      <th>customer_id</th>\n",
       "      <td>1898.0</td>\n",
       "      <td>NaN</td>\n",
       "      <td>NaN</td>\n",
       "      <td>NaN</td>\n",
       "      <td>171168.478398</td>\n",
       "      <td>113698.139743</td>\n",
       "      <td>1311.0</td>\n",
       "      <td>77787.75</td>\n",
       "      <td>128600.0</td>\n",
       "      <td>270525.0</td>\n",
       "      <td>405334.0</td>\n",
       "    </tr>\n",
       "    <tr>\n",
       "      <th>restaurant_name</th>\n",
       "      <td>1898</td>\n",
       "      <td>178</td>\n",
       "      <td>Shake Shack</td>\n",
       "      <td>219</td>\n",
       "      <td>NaN</td>\n",
       "      <td>NaN</td>\n",
       "      <td>NaN</td>\n",
       "      <td>NaN</td>\n",
       "      <td>NaN</td>\n",
       "      <td>NaN</td>\n",
       "      <td>NaN</td>\n",
       "    </tr>\n",
       "    <tr>\n",
       "      <th>cuisine_type</th>\n",
       "      <td>1898</td>\n",
       "      <td>14</td>\n",
       "      <td>American</td>\n",
       "      <td>584</td>\n",
       "      <td>NaN</td>\n",
       "      <td>NaN</td>\n",
       "      <td>NaN</td>\n",
       "      <td>NaN</td>\n",
       "      <td>NaN</td>\n",
       "      <td>NaN</td>\n",
       "      <td>NaN</td>\n",
       "    </tr>\n",
       "    <tr>\n",
       "      <th>cost_of_the_order</th>\n",
       "      <td>1898.0</td>\n",
       "      <td>NaN</td>\n",
       "      <td>NaN</td>\n",
       "      <td>NaN</td>\n",
       "      <td>16.498851</td>\n",
       "      <td>7.483812</td>\n",
       "      <td>4.47</td>\n",
       "      <td>12.08</td>\n",
       "      <td>14.14</td>\n",
       "      <td>22.2975</td>\n",
       "      <td>35.41</td>\n",
       "    </tr>\n",
       "    <tr>\n",
       "      <th>day_of_the_week</th>\n",
       "      <td>1898</td>\n",
       "      <td>2</td>\n",
       "      <td>Weekend</td>\n",
       "      <td>1351</td>\n",
       "      <td>NaN</td>\n",
       "      <td>NaN</td>\n",
       "      <td>NaN</td>\n",
       "      <td>NaN</td>\n",
       "      <td>NaN</td>\n",
       "      <td>NaN</td>\n",
       "      <td>NaN</td>\n",
       "    </tr>\n",
       "    <tr>\n",
       "      <th>rating</th>\n",
       "      <td>1898</td>\n",
       "      <td>4</td>\n",
       "      <td>Not given</td>\n",
       "      <td>736</td>\n",
       "      <td>NaN</td>\n",
       "      <td>NaN</td>\n",
       "      <td>NaN</td>\n",
       "      <td>NaN</td>\n",
       "      <td>NaN</td>\n",
       "      <td>NaN</td>\n",
       "      <td>NaN</td>\n",
       "    </tr>\n",
       "    <tr>\n",
       "      <th>food_preparation_time</th>\n",
       "      <td>1898.0</td>\n",
       "      <td>NaN</td>\n",
       "      <td>NaN</td>\n",
       "      <td>NaN</td>\n",
       "      <td>27.37197</td>\n",
       "      <td>4.632481</td>\n",
       "      <td>20.0</td>\n",
       "      <td>23.0</td>\n",
       "      <td>27.0</td>\n",
       "      <td>31.0</td>\n",
       "      <td>35.0</td>\n",
       "    </tr>\n",
       "    <tr>\n",
       "      <th>delivery_time</th>\n",
       "      <td>1898.0</td>\n",
       "      <td>NaN</td>\n",
       "      <td>NaN</td>\n",
       "      <td>NaN</td>\n",
       "      <td>24.161749</td>\n",
       "      <td>4.972637</td>\n",
       "      <td>15.0</td>\n",
       "      <td>20.0</td>\n",
       "      <td>25.0</td>\n",
       "      <td>28.0</td>\n",
       "      <td>33.0</td>\n",
       "    </tr>\n",
       "  </tbody>\n",
       "</table>\n",
       "</div>"
      ],
      "text/plain": [
       "                        count unique          top  freq           mean  \\\n",
       "order_id               1898.0    NaN          NaN   NaN      1477495.5   \n",
       "customer_id            1898.0    NaN          NaN   NaN  171168.478398   \n",
       "restaurant_name          1898    178  Shake Shack   219            NaN   \n",
       "cuisine_type             1898     14     American   584            NaN   \n",
       "cost_of_the_order      1898.0    NaN          NaN   NaN      16.498851   \n",
       "day_of_the_week          1898      2      Weekend  1351            NaN   \n",
       "rating                   1898      4    Not given   736            NaN   \n",
       "food_preparation_time  1898.0    NaN          NaN   NaN       27.37197   \n",
       "delivery_time          1898.0    NaN          NaN   NaN      24.161749   \n",
       "\n",
       "                                 std        min         25%        50%  \\\n",
       "order_id                  548.049724  1476547.0  1477021.25  1477495.5   \n",
       "customer_id            113698.139743     1311.0    77787.75   128600.0   \n",
       "restaurant_name                  NaN        NaN         NaN        NaN   \n",
       "cuisine_type                     NaN        NaN         NaN        NaN   \n",
       "cost_of_the_order           7.483812       4.47       12.08      14.14   \n",
       "day_of_the_week                  NaN        NaN         NaN        NaN   \n",
       "rating                           NaN        NaN         NaN        NaN   \n",
       "food_preparation_time       4.632481       20.0        23.0       27.0   \n",
       "delivery_time               4.972637       15.0        20.0       25.0   \n",
       "\n",
       "                              75%        max  \n",
       "order_id               1477969.75  1478444.0  \n",
       "customer_id              270525.0   405334.0  \n",
       "restaurant_name               NaN        NaN  \n",
       "cuisine_type                  NaN        NaN  \n",
       "cost_of_the_order         22.2975      35.41  \n",
       "day_of_the_week               NaN        NaN  \n",
       "rating                        NaN        NaN  \n",
       "food_preparation_time        31.0       35.0  \n",
       "delivery_time                28.0       33.0  "
      ]
     },
     "execution_count": 24,
     "metadata": {},
     "output_type": "execute_result"
    }
   ],
   "source": [
    "# Getting a stastical summary of all the columns in the dataset\n",
    "df.describe(include='all').T "
   ]
  },
  {
   "cell_type": "markdown",
   "metadata": {
    "id": "K9CqA5H_JY_U"
   },
   "source": [
    "### **Question 7**: Which are the top 5 restaurants in terms of the number of orders received? [1 mark]"
   ]
  },
  {
   "cell_type": "code",
   "execution_count": 25,
   "metadata": {
    "id": "PaJZ3wlOJY_U"
   },
   "outputs": [
    {
     "data": {
      "text/plain": [
       "<Axes: xlabel='restaurant_name', ylabel='count'>"
      ]
     },
     "execution_count": 25,
     "metadata": {},
     "output_type": "execute_result"
    },
    {
     "data": {
      "image/png": "[encoded data removed]",
      "text/plain": [
       "<Figure size 1500x500 with 1 Axes>"
      ]
     },
     "metadata": {},
     "output_type": "display_data"
    }
   ],
   "source": [
    "# Write the code here\n",
    "\n",
    "# Creating a countplot of restaurants that have received more than 50 orders.\n",
    "plt.figure(figsize = (15,5))\n",
    "popular_restaurants = df[df['restaurant_name'].map(df['restaurant_name'].value_counts()) > 60]\n",
    "sns.countplot(data = popular_restaurants, x = 'restaurant_name') "
   ]
  },
  {
   "cell_type": "markdown",
   "metadata": {
    "id": "tnjhWgUfJY_U"
   },
   "source": [
    "#### Observations:\n",
    "Hence the top 5 restaurants from the above observation is:\n",
    "1) Shake Shack\n",
    "2) The Meatball Shop\t\n",
    "3) Blue Ribbon Sushi\t\n",
    "4) Blue Ribbon Fried Chicken\n",
    "5) Parm"
   ]
  },
  {
   "cell_type": "markdown",
   "metadata": {
    "id": "gWPMqGq0JY_U"
   },
   "source": [
    "### **Question 8**: Which is the most popular cuisine on weekends? [1 mark]"
   ]
  },
  {
   "cell_type": "code",
   "execution_count": 26,
   "metadata": {
    "id": "c-Xnus3VJY_U"
   },
   "outputs": [
    {
     "data": {
      "text/plain": [
       "American          415\n",
       "Japanese          335\n",
       "Italian           207\n",
       "Chinese           163\n",
       "Mexican            53\n",
       "Indian             49\n",
       "Mediterranean      32\n",
       "Middle Eastern     32\n",
       "Thai               15\n",
       "French             13\n",
       "Korean             11\n",
       "Southern           11\n",
       "Spanish            11\n",
       "Vietnamese          4\n",
       "Name: weekend_cuisine, dtype: int64"
      ]
     },
     "execution_count": 26,
     "metadata": {},
     "output_type": "execute_result"
    }
   ],
   "source": [
    "# Write the code here\n",
    "\n",
    "data_copy1 = df.copy()\n",
    "\n",
    "# Getting the count of cuisines for all the orders on the weekend from the dataset.\n",
    "def weekend_cuisine_func(var1, var2):\n",
    "    if (var1 == 'Weekend'):\n",
    "        return var2\n",
    "\n",
    "data_copy1['weekend_cuisine'] = data_copy1.apply(lambda x: weekend_cuisine_func(x['day_of_the_week'], x['cuisine_type']), axis = 1)\n",
    "data_copy1['weekend_cuisine'].value_counts()"
   ]
  },
  {
   "cell_type": "markdown",
   "metadata": {
    "id": "bpQ270TUJY_U"
   },
   "source": [
    "#### Observations:\n",
    "Based on the count of orders on the weekend of various cuisin types, the most popular cuisine is <b>American</b>"
   ]
  },
  {
   "cell_type": "markdown",
   "metadata": {
    "id": "88xgTqkxJY_U"
   },
   "source": [
    "### **Question 9**: What percentage of the orders cost more than 20 dollars? [2 marks]"
   ]
  },
  {
   "cell_type": "code",
   "execution_count": 27,
   "metadata": {
    "id": "OTpHyTdzJY_U"
   },
   "outputs": [
    {
     "data": {
      "image/png": "[encoded data removed]",
      "text/plain": [
       "<Figure size 640x480 with 1 Axes>"
      ]
     },
     "metadata": {},
     "output_type": "display_data"
    },
    {
     "name": "stdout",
     "output_type": "stream",
     "text": [
      "The number of orders above $20 is 29.24130663856691\n"
     ]
    }
   ],
   "source": [
    "# Write the code here\n",
    "sns.boxplot(data=df,x='cost_of_the_order')\n",
    "plt.show()\n",
    "\n",
    "\n",
    "# From the boxplot, we can see that majority of the orders are below $20. \n",
    "# Getting the percentage of orders that are above $20\n",
    "\n",
    "# Get count of values greater than 20 in the column 'cost_of_the_order' \n",
    "def percentageCount(amountLimit):\n",
    "    count = (df['cost_of_the_order'] > amountLimit).sum()\n",
    "    percentage_up_20 = (count/df.shape[0])*100\n",
    "    return percentage_up_20\n",
    "\n",
    "\n",
    "print('The number of orders above $20 is', percentageCount(20));"
   ]
  },
  {
   "cell_type": "markdown",
   "metadata": {
    "id": "77KNAC5zJY_U"
   },
   "source": [
    "#### Observations:\n",
    "Percentage of the orders cost more than 20 dollars = 29.24%"
   ]
  },
  {
   "cell_type": "markdown",
   "metadata": {
    "id": "HFyHn7hsJY_V"
   },
   "source": [
    "### **Question 10**: What is the mean order delivery time? [1 mark]"
   ]
  },
  {
   "cell_type": "code",
   "execution_count": 28,
   "metadata": {
    "id": "cyFL13hNJY_V"
   },
   "outputs": [
    {
     "data": {
      "text/plain": [
       "24.161749209694417"
      ]
     },
     "execution_count": 28,
     "metadata": {},
     "output_type": "execute_result"
    }
   ],
   "source": [
    "# Write the code here\n",
    "df['delivery_time'].mean()"
   ]
  },
  {
   "cell_type": "markdown",
   "metadata": {
    "id": "F35SRV-HJY_V"
   },
   "source": [
    "#### Observations:\n"
   ]
  },
  {
   "cell_type": "markdown",
   "metadata": {},
   "source": [
    "The mean delivery time is: 24.16 mins"
   ]
  },
  {
   "cell_type": "markdown",
   "metadata": {
    "id": "48IjaOuDJY_V"
   },
   "source": [
    "### **Question 11:** The company has decided to give 20% discount vouchers to the top 3 most frequent customers. Find the IDs of these customers and the number of orders they placed. [1 mark]"
   ]
  },
  {
   "cell_type": "code",
   "execution_count": 36,
   "metadata": {
    "id": "Hz8-DE4Zge0j"
   },
   "outputs": [
    {
     "name": "stdout",
     "output_type": "stream",
     "text": [
      "The top customers are: \n",
      "ID      orders\n",
      "52832    13\n",
      "47440    10\n",
      "83287     9\n",
      "Name: customer_id, dtype: int64\n"
     ]
    }
   ],
   "source": [
    "# Write the code here 'customer_id'\n",
    "\n",
    "# We can get the top customers by getting the number orders placed by each customer. \n",
    "# We can get this by getting the value count of each customer Id.\n",
    "def topcustomers(count):\n",
    "    customers = df['customer_id'].value_counts().head(count)\n",
    "    return customers;\n",
    "\n",
    "print('The top customers are: ')\n",
    "print('ID      orders')\n",
    "print(topcustomers(3))"
   ]
  },
  {
   "cell_type": "markdown",
   "metadata": {
    "id": "9tWVwfX6JY_V"
   },
   "source": [
    "#### Observations:\n"
   ]
  },
  {
   "cell_type": "markdown",
   "metadata": {
    "id": "AfIc2jPaJY_V"
   },
   "source": [
    "### Multivariate Analysis"
   ]
  },
  {
   "cell_type": "markdown",
   "metadata": {
    "id": "iqiS0RT_JY_V"
   },
   "source": [
    "### **Question 12**: Perform a multivariate analysis to explore relationships between the important variables in the dataset. (It is a good idea to explore relations between numerical variables as well as relations between numerical and categorical variables) [10 marks]\n"
   ]
  },
  {
   "cell_type": "markdown",
   "metadata": {},
   "source": [
    "#### Multivariate analysis can be perform between the attributes for the following use cases:\n",
    "\n",
    "1. Usual delivery time on weekdays vs weekends\n",
    "Analysing result: We can get the time of delivery on weekdays and weekends.\n",
    "\n",
    "2. Food Preparation time vs the delivery time on weekdays and weekends\n",
    "Analysing result: What causes the delay in delivery of food to the customer, food prep or food delivery\n",
    "\n",
    "3. Cuisine vs Food Preparation time\n",
    "Analysing result: Which cuisine takes longer to prepare.\n",
    "\n",
    "    3(a) Outlier detection : Korean Food\n",
    "    \n",
    "\n",
    "4. Revenue generated by each restaurant\n",
    "Analysing result: Analyse the revenue generated by the restaurants\n",
    "\n",
    "5. Rating and Delivery time\n",
    "Analysing result: Impact of delivery time on the rating given\n",
    "\n",
    "6. Rating & Food preparation time\n",
    "Analysing result: Impact of Food preparation time on the rating given\n",
    "\n",
    "7. Rating & cost of the order\n",
    "Analysing result: Impact of cost of the order on the rating given\n",
    "\n",
    "8. Cost of the order and cuisine type comparison \n",
    "Analysing result: This would help the customers identify the cost of a meal based on the cuisine type.\n",
    "\n",
    "    8(a). Cost of the order  - Outlier detection - Korean\n",
    "    \n",
    "    8(b). Cost of the order  - Outlier detection - Mediterranean\n",
    "    \n",
    "    8(c). Cost of the order  - Outlier detection - Vietnamese\n",
    "\n",
    "\n"
   ]
  },
  {
   "cell_type": "markdown",
   "metadata": {
    "id": "5E0O_oviJY_T"
   },
   "source": [
    "#### 1. Usual delivery time on weekdays vs weekends\n",
    "#### Analysing result: We can get the time of delivery on weekdays and weekends.\n"
   ]
  },
  {
   "cell_type": "code",
   "execution_count": 35,
   "metadata": {},
   "outputs": [
    {
     "data": {
      "image/png": "[encoded data removed]",
      "text/plain": [
       "<Figure size 1500x700 with 1 Axes>"
      ]
     },
     "metadata": {},
     "output_type": "display_data"
    }
   ],
   "source": [
    "plt.figure(figsize=(15,7))\n",
    "sns.boxplot(x = \"day_of_the_week\", y = \"delivery_time\", data = df)\n",
    "plt.xticks(rotation = 60)\n",
    "plt.show()"
   ]
  },
  {
   "cell_type": "markdown",
   "metadata": {
    "id": "5E0O_oviJY_T"
   },
   "source": [
    "#### Observations\n",
    "1. The delivery time on weekday is more compared to weekends.\n",
    "2. With this, we can derive that the delivery time gets impacted by either Food Hub delivery folks or the restaurant delivery time.\n",
    "3. We can check this by a correlation between : delivery_time, day_of_the_week and food_preparation_time"
   ]
  },
  {
   "cell_type": "markdown",
   "metadata": {
    "id": "5E0O_oviJY_T"
   },
   "source": [
    "#### 2. Food Preparation time vs the delivery time on weekdays and weekends\n",
    "#### Analysing result: What causes the delay in delivery of food to the customer, food prep or food delivery\n"
   ]
  },
  {
   "cell_type": "code",
   "execution_count": 111,
   "metadata": {},
   "outputs": [
    {
     "data": {
      "image/png": "[encoded data removed]",
      "text/plain": [
       "<Figure size 1500x1000 with 1 Axes>"
      ]
     },
     "metadata": {},
     "output_type": "display_data"
    }
   ],
   "source": [
    "plt.figure(figsize=(15,10))\n",
    "sns.boxplot(x = \"delivery_time\", y = \"food_preparation_time\", data = df, hue='day_of_the_week')\n",
    "plt.ylabel('Food Preparation Time')\n",
    "plt.xlabel('Food Delivery Time')\n",
    "plt.xticks(rotation = 60)\n",
    "plt.show()\n"
   ]
  },
  {
   "cell_type": "code",
   "execution_count": 39,
   "metadata": {},
   "outputs": [
    {
     "data": {
      "image/png": "[encoded data removed]",
      "text/plain": [
       "<Figure size 1500x700 with 1 Axes>"
      ]
     },
     "metadata": {},
     "output_type": "display_data"
    }
   ],
   "source": [
    "plt.figure(figsize=(15,7))\n",
    "sns.lineplot(data=df, x=\"delivery_time\", y=\"food_preparation_time\", hue='day_of_the_week',  \n",
    "             errorbar=('ci', False))\n",
    "plt.ylabel('Food Preparation Time')\n",
    "plt.xlabel('Food Delivery Time')\n",
    "plt.show()"
   ]
  },
  {
   "cell_type": "markdown",
   "metadata": {
    "id": "5E0O_oviJY_T"
   },
   "source": [
    "#### Observations\n",
    "Both the above graph shows a similar pattern:\n",
    "We can infer the following from the above pattern:\n",
    "\n",
    "1. The food preparation time is almost the same in weekdays and weekends.\n",
    "2. The delivery time is more on the weekday compared to weekends.\n",
    "\n",
    "Hence, we can infer that the restaurants pace of preparing the food is consistent. However, Food hub takes longer to deliver on weekdays compared to weekends. This could be related to the staff / drivers availalbity over weekends and weekdays."
   ]
  },
  {
   "cell_type": "markdown",
   "metadata": {
    "id": "5E0O_oviJY_T"
   },
   "source": [
    "#### 3. Cuisine vs Food Preparation time\n",
    "#### Analysing result: Which cuisine takes longer to prepare."
   ]
  },
  {
   "cell_type": "code",
   "execution_count": 183,
   "metadata": {},
   "outputs": [
    {
     "data": {
      "image/png": "[encoded data removed]",
      "text/plain": [
       "<Figure size 1500x700 with 1 Axes>"
      ]
     },
     "metadata": {},
     "output_type": "display_data"
    }
   ],
   "source": [
    "# df.head()\n",
    "\n",
    "plt.figure(figsize=(15,7))\n",
    "sns.boxplot(x=df['cuisine_type'], y=df['food_preparation_time'], palette = 'PuBu')\n",
    "plt.ylabel('Food preparation time')\n",
    "plt.xlabel('Cuisine')  ## Complete the code to visualize the relationship between food preparation time and cuisine type using boxplot\n",
    "plt.xticks(rotation = 60)\n",
    "plt.show()"
   ]
  },
  {
   "cell_type": "markdown",
   "metadata": {
    "id": "5E0O_oviJY_T"
   },
   "source": [
    "#### Observations\n",
    "1. We see that mean preparation time for all the cuisines are between 24-28 minutes\n",
    "2. Thre are some outliers in the Korean dishes that has taken mroe time to prepare compared to the average time.\n",
    "3. All the other  cuisines have no outliers in the preparation time."
   ]
  },
  {
   "cell_type": "markdown",
   "metadata": {},
   "source": [
    "#### 3(a) Outlier detection : Korean Food"
   ]
  },
  {
   "cell_type": "code",
   "execution_count": 184,
   "metadata": {},
   "outputs": [
    {
     "data": {
      "text/html": [
       "<div>\n",
       "<style scoped>\n",
       "    .dataframe tbody tr th:only-of-type {\n",
       "        vertical-align: middle;\n",
       "    }\n",
       "\n",
       "    .dataframe tbody tr th {\n",
       "        vertical-align: top;\n",
       "    }\n",
       "\n",
       "    .dataframe thead th {\n",
       "        text-align: right;\n",
       "    }\n",
       "</style>\n",
       "<table border=\"1\" class=\"dataframe\">\n",
       "  <thead>\n",
       "    <tr style=\"text-align: right;\">\n",
       "      <th></th>\n",
       "      <th>order_id</th>\n",
       "      <th>customer_id</th>\n",
       "      <th>restaurant_name</th>\n",
       "      <th>cuisine_type</th>\n",
       "      <th>cost_of_the_order</th>\n",
       "      <th>day_of_the_week</th>\n",
       "      <th>rating</th>\n",
       "      <th>food_preparation_time</th>\n",
       "      <th>delivery_time</th>\n",
       "      <th>total_time</th>\n",
       "    </tr>\n",
       "  </thead>\n",
       "  <tbody>\n",
       "    <tr>\n",
       "      <th>0</th>\n",
       "      <td>1477147</td>\n",
       "      <td>337525</td>\n",
       "      <td>Hangawi</td>\n",
       "      <td>Korean</td>\n",
       "      <td>30.75</td>\n",
       "      <td>Weekend</td>\n",
       "      <td>Not given</td>\n",
       "      <td>25</td>\n",
       "      <td>20</td>\n",
       "      <td>45</td>\n",
       "    </tr>\n",
       "    <tr>\n",
       "      <th>301</th>\n",
       "      <td>1476856</td>\n",
       "      <td>59674</td>\n",
       "      <td>Woorijip</td>\n",
       "      <td>Korean</td>\n",
       "      <td>8.25</td>\n",
       "      <td>Weekend</td>\n",
       "      <td>3</td>\n",
       "      <td>26</td>\n",
       "      <td>26</td>\n",
       "      <td>52</td>\n",
       "    </tr>\n",
       "    <tr>\n",
       "      <th>464</th>\n",
       "      <td>1477600</td>\n",
       "      <td>347263</td>\n",
       "      <td>Hangawi</td>\n",
       "      <td>Korean</td>\n",
       "      <td>6.74</td>\n",
       "      <td>Weekend</td>\n",
       "      <td>Not given</td>\n",
       "      <td>21</td>\n",
       "      <td>22</td>\n",
       "      <td>43</td>\n",
       "    </tr>\n",
       "    <tr>\n",
       "      <th>653</th>\n",
       "      <td>1478363</td>\n",
       "      <td>138024</td>\n",
       "      <td>Cho Dang Gol</td>\n",
       "      <td>Korean</td>\n",
       "      <td>29.25</td>\n",
       "      <td>Weekend</td>\n",
       "      <td>4</td>\n",
       "      <td>23</td>\n",
       "      <td>21</td>\n",
       "      <td>44</td>\n",
       "    </tr>\n",
       "    <tr>\n",
       "      <th>670</th>\n",
       "      <td>1477302</td>\n",
       "      <td>52832</td>\n",
       "      <td>Don's Bogam BBQ &amp; Wine Bar</td>\n",
       "      <td>Korean</td>\n",
       "      <td>12.23</td>\n",
       "      <td>Weekend</td>\n",
       "      <td>Not given</td>\n",
       "      <td>32</td>\n",
       "      <td>20</td>\n",
       "      <td>52</td>\n",
       "    </tr>\n",
       "    <tr>\n",
       "      <th>747</th>\n",
       "      <td>1476894</td>\n",
       "      <td>384698</td>\n",
       "      <td>Don's Bogam BBQ &amp; Wine Bar</td>\n",
       "      <td>Korean</td>\n",
       "      <td>14.07</td>\n",
       "      <td>Weekend</td>\n",
       "      <td>3</td>\n",
       "      <td>33</td>\n",
       "      <td>16</td>\n",
       "      <td>49</td>\n",
       "    </tr>\n",
       "    <tr>\n",
       "      <th>852</th>\n",
       "      <td>1477746</td>\n",
       "      <td>288777</td>\n",
       "      <td>Don's Bogam BBQ &amp; Wine Bar</td>\n",
       "      <td>Korean</td>\n",
       "      <td>12.61</td>\n",
       "      <td>Weekend</td>\n",
       "      <td>4</td>\n",
       "      <td>25</td>\n",
       "      <td>26</td>\n",
       "      <td>51</td>\n",
       "    </tr>\n",
       "    <tr>\n",
       "      <th>1129</th>\n",
       "      <td>1477985</td>\n",
       "      <td>325272</td>\n",
       "      <td>Cho Dang Gol</td>\n",
       "      <td>Korean</td>\n",
       "      <td>12.13</td>\n",
       "      <td>Weekend</td>\n",
       "      <td>4</td>\n",
       "      <td>29</td>\n",
       "      <td>16</td>\n",
       "      <td>45</td>\n",
       "    </tr>\n",
       "    <tr>\n",
       "      <th>1255</th>\n",
       "      <td>1478164</td>\n",
       "      <td>138024</td>\n",
       "      <td>Cho Dang Gol</td>\n",
       "      <td>Korean</td>\n",
       "      <td>11.84</td>\n",
       "      <td>Weekend</td>\n",
       "      <td>5</td>\n",
       "      <td>25</td>\n",
       "      <td>16</td>\n",
       "      <td>41</td>\n",
       "    </tr>\n",
       "    <tr>\n",
       "      <th>1449</th>\n",
       "      <td>1477461</td>\n",
       "      <td>241719</td>\n",
       "      <td>Kori Restaurant and Bar</td>\n",
       "      <td>Korean</td>\n",
       "      <td>12.18</td>\n",
       "      <td>Weekday</td>\n",
       "      <td>4</td>\n",
       "      <td>26</td>\n",
       "      <td>26</td>\n",
       "      <td>52</td>\n",
       "    </tr>\n",
       "    <tr>\n",
       "      <th>1471</th>\n",
       "      <td>1476926</td>\n",
       "      <td>349854</td>\n",
       "      <td>Cho Dang Gol</td>\n",
       "      <td>Korean</td>\n",
       "      <td>14.02</td>\n",
       "      <td>Weekend</td>\n",
       "      <td>Not given</td>\n",
       "      <td>25</td>\n",
       "      <td>20</td>\n",
       "      <td>45</td>\n",
       "    </tr>\n",
       "    <tr>\n",
       "      <th>1550</th>\n",
       "      <td>1477307</td>\n",
       "      <td>141732</td>\n",
       "      <td>Cho Dang Gol</td>\n",
       "      <td>Korean</td>\n",
       "      <td>5.77</td>\n",
       "      <td>Weekend</td>\n",
       "      <td>5</td>\n",
       "      <td>21</td>\n",
       "      <td>17</td>\n",
       "      <td>38</td>\n",
       "    </tr>\n",
       "    <tr>\n",
       "      <th>1859</th>\n",
       "      <td>1476790</td>\n",
       "      <td>141732</td>\n",
       "      <td>Cho Dang Gol</td>\n",
       "      <td>Korean</td>\n",
       "      <td>12.18</td>\n",
       "      <td>Weekday</td>\n",
       "      <td>5</td>\n",
       "      <td>20</td>\n",
       "      <td>26</td>\n",
       "      <td>46</td>\n",
       "    </tr>\n",
       "  </tbody>\n",
       "</table>\n",
       "</div>"
      ],
      "text/plain": [
       "      order_id  customer_id             restaurant_name cuisine_type  \\\n",
       "0      1477147       337525                     Hangawi       Korean   \n",
       "301    1476856        59674                    Woorijip       Korean   \n",
       "464    1477600       347263                     Hangawi       Korean   \n",
       "653    1478363       138024                Cho Dang Gol       Korean   \n",
       "670    1477302        52832  Don's Bogam BBQ & Wine Bar       Korean   \n",
       "747    1476894       384698  Don's Bogam BBQ & Wine Bar       Korean   \n",
       "852    1477746       288777  Don's Bogam BBQ & Wine Bar       Korean   \n",
       "1129   1477985       325272                Cho Dang Gol       Korean   \n",
       "1255   1478164       138024                Cho Dang Gol       Korean   \n",
       "1449   1477461       241719     Kori Restaurant and Bar       Korean   \n",
       "1471   1476926       349854                Cho Dang Gol       Korean   \n",
       "1550   1477307       141732                Cho Dang Gol       Korean   \n",
       "1859   1476790       141732                Cho Dang Gol       Korean   \n",
       "\n",
       "      cost_of_the_order day_of_the_week     rating  food_preparation_time  \\\n",
       "0                 30.75         Weekend  Not given                     25   \n",
       "301                8.25         Weekend          3                     26   \n",
       "464                6.74         Weekend  Not given                     21   \n",
       "653               29.25         Weekend          4                     23   \n",
       "670               12.23         Weekend  Not given                     32   \n",
       "747               14.07         Weekend          3                     33   \n",
       "852               12.61         Weekend          4                     25   \n",
       "1129              12.13         Weekend          4                     29   \n",
       "1255              11.84         Weekend          5                     25   \n",
       "1449              12.18         Weekday          4                     26   \n",
       "1471              14.02         Weekend  Not given                     25   \n",
       "1550               5.77         Weekend          5                     21   \n",
       "1859              12.18         Weekday          5                     20   \n",
       "\n",
       "      delivery_time  total_time  \n",
       "0                20          45  \n",
       "301              26          52  \n",
       "464              22          43  \n",
       "653              21          44  \n",
       "670              20          52  \n",
       "747              16          49  \n",
       "852              26          51  \n",
       "1129             16          45  \n",
       "1255             16          41  \n",
       "1449             26          52  \n",
       "1471             20          45  \n",
       "1550             17          38  \n",
       "1859             26          46  "
      ]
     },
     "execution_count": 184,
     "metadata": {},
     "output_type": "execute_result"
    }
   ],
   "source": [
    "df.loc[df['cuisine_type']=='Korean']"
   ]
  },
  {
   "cell_type": "markdown",
   "metadata": {
    "id": "5E0O_oviJY_T"
   },
   "source": [
    "#### Observations\n",
    "1. We can see that the 2 orders that took the most time to prepare are from 'Don's Bogam BBQ & Wine Bar'\n",
    "2. The ratings for both these orders is either 'Not Given' and '3'\n",
    "3. Hence, we can infer that the Korean food from this restaurant is not so good based on the customer rating and usually has a longer food prep time."
   ]
  },
  {
   "cell_type": "markdown",
   "metadata": {
    "id": "5E0O_oviJY_T"
   },
   "source": [
    "#### 4. Revenue generated by each restaurant\n",
    "#### Analysing result: Analyse the revenue generated by the restaurants\n"
   ]
  },
  {
   "cell_type": "code",
   "execution_count": 185,
   "metadata": {},
   "outputs": [
    {
     "data": {
      "text/plain": [
       "restaurant_name\n",
       "Shake Shack                  3579.53\n",
       "The Meatball Shop            2145.21\n",
       "Blue Ribbon Sushi            1903.95\n",
       "Blue Ribbon Fried Chicken    1662.29\n",
       "Parm                         1112.76\n",
       "RedFarm Broadway              965.13\n",
       "RedFarm Hudson                921.21\n",
       "TAO                           834.50\n",
       "Han Dynasty                   755.29\n",
       "Name: cost_of_the_order, dtype: float64"
      ]
     },
     "execution_count": 185,
     "metadata": {},
     "output_type": "execute_result"
    }
   ],
   "source": [
    "df.groupby(['restaurant_name'])['cost_of_the_order'].sum().sort_values(ascending = False).head(9)"
   ]
  },
  {
   "cell_type": "markdown",
   "metadata": {
    "id": "5E0O_oviJY_T"
   },
   "source": [
    "#### 5. Rating & Delivery time\n",
    "#### Analysing result: Impact of delivery time on the rating given\n"
   ]
  },
  {
   "cell_type": "code",
   "execution_count": 186,
   "metadata": {},
   "outputs": [
    {
     "data": {
      "image/png": "[encoded data removed]",
      "text/plain": [
       "<Figure size 1500x700 with 1 Axes>"
      ]
     },
     "metadata": {},
     "output_type": "display_data"
    }
   ],
   "source": [
    "plt.figure(figsize=(15, 7))\n",
    "sns.lineplot(x = 'rating', y = 'delivery_time', data = df)\n",
    "plt.ylabel('Delivery TIme')\n",
    "plt.xlabel('Rating')\n",
    "plt.show()"
   ]
  },
  {
   "cell_type": "markdown",
   "metadata": {},
   "source": [
    "#### Observation\n",
    "We can see that the higher delivery time has lesser rating. "
   ]
  },
  {
   "cell_type": "markdown",
   "metadata": {},
   "source": [
    "#### 6. Rating & Food preparation time\n",
    "#### Analysing result: Impact of Food preparation time on the rating given"
   ]
  },
  {
   "cell_type": "code",
   "execution_count": 187,
   "metadata": {},
   "outputs": [
    {
     "data": {
      "image/png": "[encoded data removed]",
      "text/plain": [
       "<Figure size 1500x700 with 1 Axes>"
      ]
     },
     "metadata": {},
     "output_type": "display_data"
    }
   ],
   "source": [
    "# Relationship between rating and food preparation time\n",
    "plt.figure(figsize=(15, 7))\n",
    "sns.lineplot(x = 'rating', y = 'food_preparation_time', data = df)\n",
    "plt.ylabel('Food Preparation TIme')\n",
    "plt.xlabel('Rating')\n",
    "plt.show()"
   ]
  },
  {
   "cell_type": "markdown",
   "metadata": {},
   "source": [
    "#### Observation\n",
    "\n",
    "Similar to delivery time, there are some instances where we have lower rating for higher food prep time. "
   ]
  },
  {
   "cell_type": "markdown",
   "metadata": {},
   "source": [
    "#### 7. Rating & cost of the order\n",
    "#### Analysing result: Impact of cost of the order on the rating given"
   ]
  },
  {
   "cell_type": "code",
   "execution_count": 188,
   "metadata": {},
   "outputs": [
    {
     "data": {
      "image/png": "[encoded data removed]",
      "text/plain": [
       "<Figure size 1500x700 with 1 Axes>"
      ]
     },
     "metadata": {},
     "output_type": "display_data"
    }
   ],
   "source": [
    "# Relationship between rating and cost of the order\n",
    "plt.figure(figsize=(15, 7))\n",
    "sns.lineplot(x = 'rating', y = 'cost_of_the_order', data = df)\n",
    "plt.ylabel('Cost of Order')\n",
    "plt.xlabel('Rating')\n",
    "plt.show()"
   ]
  },
  {
   "cell_type": "markdown",
   "metadata": {},
   "source": [
    "#### Observation\n",
    "\n",
    "1. We can see that some of the orders have less cost and low rating\n",
    "2. We can also see that more expensive orders have higher ratings.\n",
    "\n",
    "We can conclude here that the restaurants know the their best selling items that customers like and are available at a higher cost."
   ]
  },
  {
   "cell_type": "markdown",
   "metadata": {
    "id": "5E0O_oviJY_T"
   },
   "source": [
    "#### 8. Cost of the order and cuisine type comparison \n",
    "#### Analysing result: This would help the customers identify the cost of a meal based on the cuisine type.\n"
   ]
  },
  {
   "cell_type": "code",
   "execution_count": 189,
   "metadata": {
    "id": "3qt4MCNTJY_V"
   },
   "outputs": [
    {
     "data": {
      "image/png": "[encoded data removed]",
      "text/plain": [
       "<Figure size 1500x700 with 1 Axes>"
      ]
     },
     "metadata": {},
     "output_type": "display_data"
    }
   ],
   "source": [
    "# Relationship between cost of the order and cuisine type\n",
    "plt.figure(figsize=(15,7))\n",
    "sns.boxplot(x = \"cuisine_type\", y = \"cost_of_the_order\", data = df, palette = 'PuBu')\n",
    "plt.xticks(rotation = 60)\n",
    "plt.show()\n",
    "\n"
   ]
  },
  {
   "cell_type": "markdown",
   "metadata": {},
   "source": [
    "#### 8.a Cost of the order  - Outlier detection (Korean)\n",
    "\n",
    "There are some outliers in the Korean cuisines, too costly and too cheap.\n",
    "\n",
    "#### Korean cuisines above $25"
   ]
  },
  {
   "cell_type": "code",
   "execution_count": 190,
   "metadata": {},
   "outputs": [
    {
     "data": {
      "text/html": [
       "<div>\n",
       "<style scoped>\n",
       "    .dataframe tbody tr th:only-of-type {\n",
       "        vertical-align: middle;\n",
       "    }\n",
       "\n",
       "    .dataframe tbody tr th {\n",
       "        vertical-align: top;\n",
       "    }\n",
       "\n",
       "    .dataframe thead th {\n",
       "        text-align: right;\n",
       "    }\n",
       "</style>\n",
       "<table border=\"1\" class=\"dataframe\">\n",
       "  <thead>\n",
       "    <tr style=\"text-align: right;\">\n",
       "      <th></th>\n",
       "      <th>order_id</th>\n",
       "      <th>customer_id</th>\n",
       "      <th>restaurant_name</th>\n",
       "      <th>cuisine_type</th>\n",
       "      <th>cost_of_the_order</th>\n",
       "      <th>day_of_the_week</th>\n",
       "      <th>rating</th>\n",
       "      <th>food_preparation_time</th>\n",
       "      <th>delivery_time</th>\n",
       "      <th>total_time</th>\n",
       "    </tr>\n",
       "  </thead>\n",
       "  <tbody>\n",
       "    <tr>\n",
       "      <th>0</th>\n",
       "      <td>1477147</td>\n",
       "      <td>337525</td>\n",
       "      <td>Hangawi</td>\n",
       "      <td>Korean</td>\n",
       "      <td>30.75</td>\n",
       "      <td>Weekend</td>\n",
       "      <td>Not given</td>\n",
       "      <td>25</td>\n",
       "      <td>20</td>\n",
       "      <td>45</td>\n",
       "    </tr>\n",
       "    <tr>\n",
       "      <th>653</th>\n",
       "      <td>1478363</td>\n",
       "      <td>138024</td>\n",
       "      <td>Cho Dang Gol</td>\n",
       "      <td>Korean</td>\n",
       "      <td>29.25</td>\n",
       "      <td>Weekend</td>\n",
       "      <td>4</td>\n",
       "      <td>23</td>\n",
       "      <td>21</td>\n",
       "      <td>44</td>\n",
       "    </tr>\n",
       "  </tbody>\n",
       "</table>\n",
       "</div>"
      ],
      "text/plain": [
       "     order_id  customer_id restaurant_name cuisine_type  cost_of_the_order  \\\n",
       "0     1477147       337525         Hangawi       Korean              30.75   \n",
       "653   1478363       138024    Cho Dang Gol       Korean              29.25   \n",
       "\n",
       "    day_of_the_week     rating  food_preparation_time  delivery_time  \\\n",
       "0           Weekend  Not given                     25             20   \n",
       "653         Weekend          4                     23             21   \n",
       "\n",
       "     total_time  \n",
       "0            45  \n",
       "653          44  "
      ]
     },
     "execution_count": 190,
     "metadata": {},
     "output_type": "execute_result"
    }
   ],
   "source": [
    "df.loc[(df[\"cuisine_type\"] == 'Korean') & (df[\"cost_of_the_order\"] >25)]\n"
   ]
  },
  {
   "cell_type": "markdown",
   "metadata": {},
   "source": [
    "#### Korean cuisines below $10\n",
    "\n",
    "\n",
    "\n",
    "\n"
   ]
  },
  {
   "cell_type": "code",
   "execution_count": 106,
   "metadata": {},
   "outputs": [
    {
     "data": {
      "text/html": [
       "<div>\n",
       "<style scoped>\n",
       "    .dataframe tbody tr th:only-of-type {\n",
       "        vertical-align: middle;\n",
       "    }\n",
       "\n",
       "    .dataframe tbody tr th {\n",
       "        vertical-align: top;\n",
       "    }\n",
       "\n",
       "    .dataframe thead th {\n",
       "        text-align: right;\n",
       "    }\n",
       "</style>\n",
       "<table border=\"1\" class=\"dataframe\">\n",
       "  <thead>\n",
       "    <tr style=\"text-align: right;\">\n",
       "      <th></th>\n",
       "      <th>order_id</th>\n",
       "      <th>customer_id</th>\n",
       "      <th>restaurant_name</th>\n",
       "      <th>cuisine_type</th>\n",
       "      <th>cost_of_the_order</th>\n",
       "      <th>day_of_the_week</th>\n",
       "      <th>rating</th>\n",
       "      <th>food_preparation_time</th>\n",
       "      <th>delivery_time</th>\n",
       "    </tr>\n",
       "  </thead>\n",
       "  <tbody>\n",
       "    <tr>\n",
       "      <th>301</th>\n",
       "      <td>1476856</td>\n",
       "      <td>59674</td>\n",
       "      <td>Woorijip</td>\n",
       "      <td>Korean</td>\n",
       "      <td>8.25</td>\n",
       "      <td>Weekend</td>\n",
       "      <td>3</td>\n",
       "      <td>26</td>\n",
       "      <td>26</td>\n",
       "    </tr>\n",
       "    <tr>\n",
       "      <th>464</th>\n",
       "      <td>1477600</td>\n",
       "      <td>347263</td>\n",
       "      <td>Hangawi</td>\n",
       "      <td>Korean</td>\n",
       "      <td>6.74</td>\n",
       "      <td>Weekend</td>\n",
       "      <td>Not given</td>\n",
       "      <td>21</td>\n",
       "      <td>22</td>\n",
       "    </tr>\n",
       "    <tr>\n",
       "      <th>1550</th>\n",
       "      <td>1477307</td>\n",
       "      <td>141732</td>\n",
       "      <td>Cho Dang Gol</td>\n",
       "      <td>Korean</td>\n",
       "      <td>5.77</td>\n",
       "      <td>Weekend</td>\n",
       "      <td>5</td>\n",
       "      <td>21</td>\n",
       "      <td>17</td>\n",
       "    </tr>\n",
       "  </tbody>\n",
       "</table>\n",
       "</div>"
      ],
      "text/plain": [
       "      order_id  customer_id restaurant_name cuisine_type  cost_of_the_order  \\\n",
       "301    1476856        59674        Woorijip       Korean               8.25   \n",
       "464    1477600       347263         Hangawi       Korean               6.74   \n",
       "1550   1477307       141732    Cho Dang Gol       Korean               5.77   \n",
       "\n",
       "     day_of_the_week     rating  food_preparation_time  delivery_time  \n",
       "301          Weekend          3                     26             26  \n",
       "464          Weekend  Not given                     21             22  \n",
       "1550         Weekend          5                     21             17  "
      ]
     },
     "execution_count": 106,
     "metadata": {},
     "output_type": "execute_result"
    }
   ],
   "source": [
    "df.loc[(df[\"cuisine_type\"] == 'Korean') & (df[\"cost_of_the_order\"] < 10)]"
   ]
  },
  {
   "cell_type": "markdown",
   "metadata": {},
   "source": [
    "#### Observation:\n",
    "\n",
    "1. Most of the outliers have a rating\n",
    "2. These dishes were ordered on a weekend\n",
    "\n",
    "Hence we can conclude that these could be some fancy dishes ordered on the weekend and are not outliers.\n",
    "\n",
    "\n",
    "\n"
   ]
  },
  {
   "cell_type": "markdown",
   "metadata": {},
   "source": [
    "#### 8.b Cost of the order  - Outlier detection (Mediterranean)"
   ]
  },
  {
   "cell_type": "code",
   "execution_count": 191,
   "metadata": {},
   "outputs": [
    {
     "data": {
      "text/html": [
       "<div>\n",
       "<style scoped>\n",
       "    .dataframe tbody tr th:only-of-type {\n",
       "        vertical-align: middle;\n",
       "    }\n",
       "\n",
       "    .dataframe tbody tr th {\n",
       "        vertical-align: top;\n",
       "    }\n",
       "\n",
       "    .dataframe thead th {\n",
       "        text-align: right;\n",
       "    }\n",
       "</style>\n",
       "<table border=\"1\" class=\"dataframe\">\n",
       "  <thead>\n",
       "    <tr style=\"text-align: right;\">\n",
       "      <th></th>\n",
       "      <th>order_id</th>\n",
       "      <th>customer_id</th>\n",
       "      <th>restaurant_name</th>\n",
       "      <th>cuisine_type</th>\n",
       "      <th>cost_of_the_order</th>\n",
       "      <th>day_of_the_week</th>\n",
       "      <th>rating</th>\n",
       "      <th>food_preparation_time</th>\n",
       "      <th>delivery_time</th>\n",
       "      <th>total_time</th>\n",
       "    </tr>\n",
       "  </thead>\n",
       "  <tbody>\n",
       "    <tr>\n",
       "      <th>502</th>\n",
       "      <td>1476740</td>\n",
       "      <td>60873</td>\n",
       "      <td>Jack's Wife Freda</td>\n",
       "      <td>Mediterranean</td>\n",
       "      <td>25.17</td>\n",
       "      <td>Weekday</td>\n",
       "      <td>4</td>\n",
       "      <td>31</td>\n",
       "      <td>25</td>\n",
       "      <td>56</td>\n",
       "    </tr>\n",
       "    <tr>\n",
       "      <th>524</th>\n",
       "      <td>1476934</td>\n",
       "      <td>126134</td>\n",
       "      <td>Jack's Wife Freda</td>\n",
       "      <td>Mediterranean</td>\n",
       "      <td>32.93</td>\n",
       "      <td>Weekend</td>\n",
       "      <td>3</td>\n",
       "      <td>21</td>\n",
       "      <td>16</td>\n",
       "      <td>37</td>\n",
       "    </tr>\n",
       "    <tr>\n",
       "      <th>573</th>\n",
       "      <td>1477814</td>\n",
       "      <td>62359</td>\n",
       "      <td>Pylos</td>\n",
       "      <td>Mediterranean</td>\n",
       "      <td>35.41</td>\n",
       "      <td>Weekday</td>\n",
       "      <td>4</td>\n",
       "      <td>21</td>\n",
       "      <td>29</td>\n",
       "      <td>50</td>\n",
       "    </tr>\n",
       "    <tr>\n",
       "      <th>858</th>\n",
       "      <td>1476968</td>\n",
       "      <td>99621</td>\n",
       "      <td>Jack's Wife Freda</td>\n",
       "      <td>Mediterranean</td>\n",
       "      <td>29.05</td>\n",
       "      <td>Weekend</td>\n",
       "      <td>5</td>\n",
       "      <td>35</td>\n",
       "      <td>28</td>\n",
       "      <td>63</td>\n",
       "    </tr>\n",
       "    <tr>\n",
       "      <th>1132</th>\n",
       "      <td>1477961</td>\n",
       "      <td>167738</td>\n",
       "      <td>Jack's Wife Freda</td>\n",
       "      <td>Mediterranean</td>\n",
       "      <td>31.43</td>\n",
       "      <td>Weekend</td>\n",
       "      <td>5</td>\n",
       "      <td>34</td>\n",
       "      <td>20</td>\n",
       "      <td>54</td>\n",
       "    </tr>\n",
       "    <tr>\n",
       "      <th>1148</th>\n",
       "      <td>1478044</td>\n",
       "      <td>354719</td>\n",
       "      <td>Jack's Wife Freda</td>\n",
       "      <td>Mediterranean</td>\n",
       "      <td>31.38</td>\n",
       "      <td>Weekend</td>\n",
       "      <td>Not given</td>\n",
       "      <td>28</td>\n",
       "      <td>18</td>\n",
       "      <td>46</td>\n",
       "    </tr>\n",
       "  </tbody>\n",
       "</table>\n",
       "</div>"
      ],
      "text/plain": [
       "      order_id  customer_id    restaurant_name   cuisine_type  \\\n",
       "502    1476740        60873  Jack's Wife Freda  Mediterranean   \n",
       "524    1476934       126134  Jack's Wife Freda  Mediterranean   \n",
       "573    1477814        62359              Pylos  Mediterranean   \n",
       "858    1476968        99621  Jack's Wife Freda  Mediterranean   \n",
       "1132   1477961       167738  Jack's Wife Freda  Mediterranean   \n",
       "1148   1478044       354719  Jack's Wife Freda  Mediterranean   \n",
       "\n",
       "      cost_of_the_order day_of_the_week     rating  food_preparation_time  \\\n",
       "502               25.17         Weekday          4                     31   \n",
       "524               32.93         Weekend          3                     21   \n",
       "573               35.41         Weekday          4                     21   \n",
       "858               29.05         Weekend          5                     35   \n",
       "1132              31.43         Weekend          5                     34   \n",
       "1148              31.38         Weekend  Not given                     28   \n",
       "\n",
       "      delivery_time  total_time  \n",
       "502              25          56  \n",
       "524              16          37  \n",
       "573              29          50  \n",
       "858              28          63  \n",
       "1132             20          54  \n",
       "1148             18          46  "
      ]
     },
     "execution_count": 191,
     "metadata": {},
     "output_type": "execute_result"
    }
   ],
   "source": [
    "df.loc[(df[\"cuisine_type\"] == 'Mediterranean') & (df[\"cost_of_the_order\"] > 25)]\n"
   ]
  },
  {
   "cell_type": "markdown",
   "metadata": {},
   "source": [
    "#### Observations:\n",
    "\n",
    "From the above table we can conclude that:\n",
    "1. Most of the Mediterranean cuisine above $25 were ordered from the restaurant 'Jack's Wife Freda'.\n",
    "2. These are not outliers as these cuisines have a high rating of 5 and takes longer to prepare and hence the justified cost."
   ]
  },
  {
   "cell_type": "markdown",
   "metadata": {},
   "source": [
    "#### 8.c Cost of the order  - Outlier detection (Vietnamese)"
   ]
  },
  {
   "cell_type": "code",
   "execution_count": 192,
   "metadata": {},
   "outputs": [
    {
     "data": {
      "text/html": [
       "<div>\n",
       "<style scoped>\n",
       "    .dataframe tbody tr th:only-of-type {\n",
       "        vertical-align: middle;\n",
       "    }\n",
       "\n",
       "    .dataframe tbody tr th {\n",
       "        vertical-align: top;\n",
       "    }\n",
       "\n",
       "    .dataframe thead th {\n",
       "        text-align: right;\n",
       "    }\n",
       "</style>\n",
       "<table border=\"1\" class=\"dataframe\">\n",
       "  <thead>\n",
       "    <tr style=\"text-align: right;\">\n",
       "      <th></th>\n",
       "      <th>order_id</th>\n",
       "      <th>customer_id</th>\n",
       "      <th>restaurant_name</th>\n",
       "      <th>cuisine_type</th>\n",
       "      <th>cost_of_the_order</th>\n",
       "      <th>day_of_the_week</th>\n",
       "      <th>rating</th>\n",
       "      <th>food_preparation_time</th>\n",
       "      <th>delivery_time</th>\n",
       "      <th>total_time</th>\n",
       "    </tr>\n",
       "  </thead>\n",
       "  <tbody>\n",
       "    <tr>\n",
       "      <th>746</th>\n",
       "      <td>1477189</td>\n",
       "      <td>54630</td>\n",
       "      <td>V-Nam Cafe</td>\n",
       "      <td>Vietnamese</td>\n",
       "      <td>22.26</td>\n",
       "      <td>Weekend</td>\n",
       "      <td>5</td>\n",
       "      <td>33</td>\n",
       "      <td>26</td>\n",
       "      <td>59</td>\n",
       "    </tr>\n",
       "  </tbody>\n",
       "</table>\n",
       "</div>"
      ],
      "text/plain": [
       "     order_id  customer_id restaurant_name cuisine_type  cost_of_the_order  \\\n",
       "746   1477189        54630      V-Nam Cafe   Vietnamese              22.26   \n",
       "\n",
       "    day_of_the_week rating  food_preparation_time  delivery_time  total_time  \n",
       "746         Weekend      5                     33             26          59  "
      ]
     },
     "execution_count": 192,
     "metadata": {},
     "output_type": "execute_result"
    }
   ],
   "source": [
    "df.loc[(df[\"cuisine_type\"] == 'Vietnamese') & (df[\"cost_of_the_order\"] > 20)]"
   ]
  },
  {
   "cell_type": "markdown",
   "metadata": {},
   "source": [
    "#### Observations:\n",
    "\n",
    "From the above table we can conclude that:\n",
    "Similar to Mediterranean, the Vietnamese dish has a 5-star rating and has a longer food prep time and hence the justified cost."
   ]
  },
  {
   "cell_type": "markdown",
   "metadata": {},
   "source": [
    "#### Correlation among variables"
   ]
  },
  {
   "cell_type": "code",
   "execution_count": 193,
   "metadata": {},
   "outputs": [
    {
     "data": {
      "image/png": "[encoded data removed]",
      "text/plain": [
       "<Figure size 1500x700 with 2 Axes>"
      ]
     },
     "metadata": {},
     "output_type": "display_data"
    }
   ],
   "source": [
    "# Heatmap between 'cost_of_the_order', 'food_preparation_time', 'delivery_time'\n",
    "col_list = ['cost_of_the_order', 'food_preparation_time', 'delivery_time']\n",
    "plt.figure(figsize=(15, 7))\n",
    "sns.heatmap(df[col_list].corr(), annot=True, vmin=-1, vmax=1, fmt=\".2f\", cmap=\"Spectral\")\n",
    "plt.show()"
   ]
  },
  {
   "cell_type": "markdown",
   "metadata": {},
   "source": [
    "#### Observation\n",
    "\n",
    "From the above heatmap, we can see that there is a high correlation between the cost of the order and the food preparation time. \n",
    "More expnsive the cuisine, more time the restaurant spends in making the cuisine."
   ]
  },
  {
   "cell_type": "markdown",
   "metadata": {
    "id": "YLkMf09YJY_V"
   },
   "source": [
    "### **Question 13:** The company wants to provide a promotional offer in the advertisement of the restaurants. The condition to get the offer is that the restaurants must have a rating count of more than 50 and the average rating should be greater than 4. Find the restaurants fulfilling the criteria to get the promotional offer. [3 marks]"
   ]
  },
  {
   "cell_type": "code",
   "execution_count": 194,
   "metadata": {},
   "outputs": [
    {
     "name": "stdout",
     "output_type": "stream",
     "text": [
      "Restaurants with rating count of more than 50 and the average rating should be greater than 4 are : \n"
     ]
    },
    {
     "data": {
      "text/html": [
       "<div>\n",
       "<style scoped>\n",
       "    .dataframe tbody tr th:only-of-type {\n",
       "        vertical-align: middle;\n",
       "    }\n",
       "\n",
       "    .dataframe tbody tr th {\n",
       "        vertical-align: top;\n",
       "    }\n",
       "\n",
       "    .dataframe thead th {\n",
       "        text-align: right;\n",
       "    }\n",
       "</style>\n",
       "<table border=\"1\" class=\"dataframe\">\n",
       "  <thead>\n",
       "    <tr style=\"text-align: right;\">\n",
       "      <th></th>\n",
       "      <th>order_id</th>\n",
       "      <th>customer_id</th>\n",
       "      <th>restaurant_name</th>\n",
       "      <th>cuisine_type</th>\n",
       "      <th>cost_of_the_order</th>\n",
       "      <th>day_of_the_week</th>\n",
       "      <th>rating</th>\n",
       "      <th>food_preparation_time</th>\n",
       "      <th>delivery_time</th>\n",
       "      <th>total_time</th>\n",
       "    </tr>\n",
       "  </thead>\n",
       "  <tbody>\n",
       "    <tr>\n",
       "      <th>12</th>\n",
       "      <td>1476966</td>\n",
       "      <td>129969</td>\n",
       "      <td>Blue Ribbon Fried Chicken</td>\n",
       "      <td>American</td>\n",
       "      <td>24.30</td>\n",
       "      <td>Weekend</td>\n",
       "      <td>5</td>\n",
       "      <td>23</td>\n",
       "      <td>17</td>\n",
       "      <td>40</td>\n",
       "    </tr>\n",
       "    <tr>\n",
       "      <th>15</th>\n",
       "      <td>1477414</td>\n",
       "      <td>66222</td>\n",
       "      <td>Shake Shack</td>\n",
       "      <td>American</td>\n",
       "      <td>16.20</td>\n",
       "      <td>Weekend</td>\n",
       "      <td>5</td>\n",
       "      <td>33</td>\n",
       "      <td>25</td>\n",
       "      <td>58</td>\n",
       "    </tr>\n",
       "    <tr>\n",
       "      <th>22</th>\n",
       "      <td>1478287</td>\n",
       "      <td>150599</td>\n",
       "      <td>Shake Shack</td>\n",
       "      <td>American</td>\n",
       "      <td>29.10</td>\n",
       "      <td>Weekday</td>\n",
       "      <td>5</td>\n",
       "      <td>21</td>\n",
       "      <td>30</td>\n",
       "      <td>51</td>\n",
       "    </tr>\n",
       "    <tr>\n",
       "      <th>26</th>\n",
       "      <td>1476995</td>\n",
       "      <td>371590</td>\n",
       "      <td>The Meatball Shop</td>\n",
       "      <td>Italian</td>\n",
       "      <td>21.88</td>\n",
       "      <td>Weekday</td>\n",
       "      <td>5</td>\n",
       "      <td>24</td>\n",
       "      <td>27</td>\n",
       "      <td>51</td>\n",
       "    </tr>\n",
       "    <tr>\n",
       "      <th>45</th>\n",
       "      <td>1476581</td>\n",
       "      <td>322162</td>\n",
       "      <td>The Meatball Shop</td>\n",
       "      <td>Italian</td>\n",
       "      <td>6.74</td>\n",
       "      <td>Weekend</td>\n",
       "      <td>5</td>\n",
       "      <td>29</td>\n",
       "      <td>23</td>\n",
       "      <td>52</td>\n",
       "    </tr>\n",
       "    <tr>\n",
       "      <th>...</th>\n",
       "      <td>...</td>\n",
       "      <td>...</td>\n",
       "      <td>...</td>\n",
       "      <td>...</td>\n",
       "      <td>...</td>\n",
       "      <td>...</td>\n",
       "      <td>...</td>\n",
       "      <td>...</td>\n",
       "      <td>...</td>\n",
       "      <td>...</td>\n",
       "    </tr>\n",
       "    <tr>\n",
       "      <th>1872</th>\n",
       "      <td>1477000</td>\n",
       "      <td>328731</td>\n",
       "      <td>Blue Ribbon Fried Chicken</td>\n",
       "      <td>American</td>\n",
       "      <td>29.59</td>\n",
       "      <td>Weekend</td>\n",
       "      <td>5</td>\n",
       "      <td>23</td>\n",
       "      <td>25</td>\n",
       "      <td>48</td>\n",
       "    </tr>\n",
       "    <tr>\n",
       "      <th>1879</th>\n",
       "      <td>1477132</td>\n",
       "      <td>110792</td>\n",
       "      <td>Blue Ribbon Sushi</td>\n",
       "      <td>Japanese</td>\n",
       "      <td>12.13</td>\n",
       "      <td>Weekend</td>\n",
       "      <td>5</td>\n",
       "      <td>28</td>\n",
       "      <td>15</td>\n",
       "      <td>43</td>\n",
       "    </tr>\n",
       "    <tr>\n",
       "      <th>1880</th>\n",
       "      <td>1477466</td>\n",
       "      <td>222734</td>\n",
       "      <td>Shake Shack</td>\n",
       "      <td>American</td>\n",
       "      <td>13.97</td>\n",
       "      <td>Weekend</td>\n",
       "      <td>5</td>\n",
       "      <td>35</td>\n",
       "      <td>27</td>\n",
       "      <td>62</td>\n",
       "    </tr>\n",
       "    <tr>\n",
       "      <th>1886</th>\n",
       "      <td>1478277</td>\n",
       "      <td>48282</td>\n",
       "      <td>The Meatball Shop</td>\n",
       "      <td>American</td>\n",
       "      <td>14.50</td>\n",
       "      <td>Weekend</td>\n",
       "      <td>5</td>\n",
       "      <td>34</td>\n",
       "      <td>25</td>\n",
       "      <td>59</td>\n",
       "    </tr>\n",
       "    <tr>\n",
       "      <th>1888</th>\n",
       "      <td>1477353</td>\n",
       "      <td>106324</td>\n",
       "      <td>The Meatball Shop</td>\n",
       "      <td>Italian</td>\n",
       "      <td>16.20</td>\n",
       "      <td>Weekend</td>\n",
       "      <td>5</td>\n",
       "      <td>21</td>\n",
       "      <td>26</td>\n",
       "      <td>47</td>\n",
       "    </tr>\n",
       "  </tbody>\n",
       "</table>\n",
       "<p>177 rows × 10 columns</p>\n",
       "</div>"
      ],
      "text/plain": [
       "      order_id  customer_id            restaurant_name cuisine_type  \\\n",
       "12     1476966       129969  Blue Ribbon Fried Chicken     American   \n",
       "15     1477414        66222                Shake Shack     American   \n",
       "22     1478287       150599                Shake Shack     American   \n",
       "26     1476995       371590          The Meatball Shop      Italian   \n",
       "45     1476581       322162          The Meatball Shop      Italian   \n",
       "...        ...          ...                        ...          ...   \n",
       "1872   1477000       328731  Blue Ribbon Fried Chicken     American   \n",
       "1879   1477132       110792          Blue Ribbon Sushi     Japanese   \n",
       "1880   1477466       222734                Shake Shack     American   \n",
       "1886   1478277        48282          The Meatball Shop     American   \n",
       "1888   1477353       106324          The Meatball Shop      Italian   \n",
       "\n",
       "      cost_of_the_order day_of_the_week  rating  food_preparation_time  \\\n",
       "12                24.30         Weekend       5                     23   \n",
       "15                16.20         Weekend       5                     33   \n",
       "22                29.10         Weekday       5                     21   \n",
       "26                21.88         Weekday       5                     24   \n",
       "45                 6.74         Weekend       5                     29   \n",
       "...                 ...             ...     ...                    ...   \n",
       "1872              29.59         Weekend       5                     23   \n",
       "1879              12.13         Weekend       5                     28   \n",
       "1880              13.97         Weekend       5                     35   \n",
       "1886              14.50         Weekend       5                     34   \n",
       "1888              16.20         Weekend       5                     21   \n",
       "\n",
       "      delivery_time  total_time  \n",
       "12               17          40  \n",
       "15               25          58  \n",
       "22               30          51  \n",
       "26               27          51  \n",
       "45               23          52  \n",
       "...             ...         ...  \n",
       "1872             25          48  \n",
       "1879             15          43  \n",
       "1880             27          62  \n",
       "1886             25          59  \n",
       "1888             26          47  \n",
       "\n",
       "[177 rows x 10 columns]"
      ]
     },
     "execution_count": 194,
     "metadata": {},
     "output_type": "execute_result"
    }
   ],
   "source": [
    "def rated_restaurants():\n",
    "    # Filter the rated restaurants\n",
    "    df_rated_restaurants = df[df['rating'] != 'Not given'].copy()\n",
    "\n",
    "    # Convert rating column from object to integer\n",
    "    df_rated_restaurants['rating'] = df_rated_restaurants['rating'].astype('int')  \n",
    "\n",
    "    # Create a dataframe that contains the restaurant names with their rating counts\n",
    "    df_rating_count = df_rated_restaurants.groupby(['restaurant_name'])['rating'].count().sort_values(ascending = False).reset_index()\n",
    "\n",
    "    # Get the restaurant names that have rating count more than 50\n",
    "    rest_names = df_rating_count[df_rating_count['rating'] > 50]['restaurant_name']\n",
    "\n",
    "    # Filter to get the data of restaurants that have rating count more than 50\n",
    "    df_mean_4 = df_rated_restaurants[df_rated_restaurants['restaurant_name'].isin(rest_names)].copy()\n",
    "\n",
    "    # Group the restaurant names with their ratings and find the mean rating of each restaurant\n",
    "    df_mean_4.groupby(['restaurant_name'])['rating'].mean().sort_values(ascending = False).reset_index().dropna() ## Complete the code to find the mean rating\n",
    "\n",
    "    # returning the restataurant names that have a mean rating greater than 4\n",
    "    return  df_mean_4[df_mean_4['rating'] > 4]\n",
    "        \n",
    "print('Restaurants with rating count of more than 50 and the average rating should be greater than 4 are : ')\n",
    "rated_restaurants()\n"
   ]
  },
  {
   "cell_type": "code",
   "execution_count": 195,
   "metadata": {},
   "outputs": [
    {
     "data": {
      "text/plain": [
       "American    100\n",
       "Italian      45\n",
       "Japanese     32\n",
       "Name: cuisine_type, dtype: int64"
      ]
     },
     "execution_count": 195,
     "metadata": {},
     "output_type": "execute_result"
    }
   ],
   "source": [
    "rated_restaurants()['cuisine_type'].value_counts()"
   ]
  },
  {
   "cell_type": "code",
   "execution_count": 196,
   "metadata": {},
   "outputs": [
    {
     "data": {
      "text/plain": [
       "array(['Blue Ribbon Fried Chicken', 'Shake Shack', 'The Meatball Shop',\n",
       "       'Blue Ribbon Sushi'], dtype=object)"
      ]
     },
     "execution_count": 196,
     "metadata": {},
     "output_type": "execute_result"
    }
   ],
   "source": [
    "rated_restaurants()['restaurant_name'].unique()"
   ]
  },
  {
   "cell_type": "markdown",
   "metadata": {
    "id": "10uryUMhJY_V"
   },
   "source": [
    "#### Observations:\n",
    "1. American, Italian Japanese cuisines are popular and are rates 4 and above stars\n",
    "2. From the above result, there are 177 restaurants with an average rating above 4\n",
    "3. Best restaurants to go for American, Italian Japanese cuisines are: \n",
    "        \n",
    "        (a) 'Blue Ribbon Fried Chicken', \n",
    "        \n",
    "        (b) 'Shake Shack', \n",
    "        \n",
    "        (c) 'The Meatball Shop', \n",
    "        \n",
    "        (d)'Blue Ribbon Sushi'\n"
   ]
  },
  {
   "cell_type": "markdown",
   "metadata": {
    "id": "1gvWBkRUJY_V"
   },
   "source": [
    "### **Question 14:** The company charges the restaurant 25% on the orders having cost greater than 20 dollars and 15% on the orders having cost greater than 5 dollars. Find the net revenue generated by the company across all orders. [3 marks]"
   ]
  },
  {
   "cell_type": "code",
   "execution_count": 197,
   "metadata": {
    "id": "rEjbnTNEJY_W"
   },
   "outputs": [
    {
     "name": "stdout",
     "output_type": "stream",
     "text": [
      "The total revenue generated by all the orders made by the company is: $ 6166.303\n"
     ]
    }
   ],
   "source": [
    "def company_revenue_generator(cost):\n",
    "    if (cost > 20):\n",
    "        return cost*0.25\n",
    "    elif (cost > 5):\n",
    "        return cost*0.15\n",
    "    else:\n",
    "        return 0\n",
    "    \n",
    "def company_revenue():\n",
    "    df_company_revenue = df.copy()\n",
    "    df_company_revenue['Revenue'] = df_company_revenue['cost_of_the_order'].apply(company_revenue_generator)\n",
    "    return df_company_revenue['Revenue'].sum()\n",
    "\n",
    "print('The total revenue generated by all the orders made by the company is: $',company_revenue())\n"
   ]
  },
  {
   "cell_type": "markdown",
   "metadata": {
    "id": "pRlVW-oeJY_W"
   },
   "source": [
    "### **Question 15:** The company wants to analyze the total time required to deliver the food. What percentage of orders take more than 60 minutes to get delivered from the time the order is placed? (The food has to be prepared and then delivered.) [2 marks]"
   ]
  },
  {
   "cell_type": "markdown",
   "metadata": {
    "id": "XHCEJgH0JY_W"
   },
   "source": [
    "#### Observations:\n"
   ]
  },
  {
   "cell_type": "code",
   "execution_count": 198,
   "metadata": {
    "id": "zxoTrxfLJY_W"
   },
   "outputs": [
    {
     "name": "stdout",
     "output_type": "stream",
     "text": [
      "The percentage of restaurants that take more than 60 minutes to deliver the food are:  10.537407797681771\n"
     ]
    }
   ],
   "source": [
    "df['total_time'] = df['food_preparation_time'] + df['delivery_time']\n",
    "\n",
    "def highOrderDeliveryTime(deliveryTime):\n",
    "    return ((df[df['total_time'] > deliveryTime].shape[0]) / (df.shape[0]))*100\n",
    "\n",
    "    \n",
    "print ('The percentage of restaurants that take more than 60 minutes to deliver the food are: ', highOrderDeliveryTime(60))    "
   ]
  },
  {
   "cell_type": "markdown",
   "metadata": {
    "id": "iqzBXn2yJY_W"
   },
   "source": [
    "#### Observations:\n",
    "Breaking down the above method:\n",
    "Number of restaurants that take more than 60 minutes: 200\n",
    "\n",
    "`df[df['total_time'] > 60].shape[0]` \n",
    "\n",
    "Total number of restaurants are: 1898\n",
    "\n",
    "`(df.shape[0])`\n",
    "\n",
    "Hence the total percentage of restaurants taking more than 60 mins is 200/1898 = 10.5%"
   ]
  },
  {
   "cell_type": "markdown",
   "metadata": {
    "id": "bUd6cYpPJY_W"
   },
   "source": [
    "### **Question 16:** The company wants to analyze the delivery time of the orders on weekdays and weekends. How does the mean delivery time vary during weekdays and weekends? [2 marks]"
   ]
  },
  {
   "cell_type": "code",
   "execution_count": 199,
   "metadata": {
    "id": "pIU5xZZ6JY_W"
   },
   "outputs": [
    {
     "name": "stdout",
     "output_type": "stream",
     "text": [
      "The mean delivery time on weekdays is around 28  minutes\n",
      "The mean delivery time on weekend is around 22  minutes\n"
     ]
    }
   ],
   "source": [
    "def mean_delivery_time(day):\n",
    "    if (day == 'Weekday'):\n",
    "        return round(df[df['day_of_the_week'] == 'Weekday']['delivery_time'].mean())\n",
    "    else:\n",
    "        return round(df[df['day_of_the_week'] == 'Weekend']['delivery_time'].mean())\n",
    "    \n",
    "print('The mean delivery time on weekdays is around', mean_delivery_time('Weekday'),' minutes')\n",
    "print('The mean delivery time on weekend is around', mean_delivery_time('Weekend'),' minutes')"
   ]
  },
  {
   "cell_type": "markdown",
   "metadata": {
    "id": "8H-ODxbVJY_W"
   },
   "source": [
    "#### Observations:\n",
    "\n",
    "Weekdays the ean delivery time is higher than the weekends.\n",
    "We can conclude the following from this:\n",
    "\n",
    "1. As more orders are made by customers on the weekends, the company has more drivers delivering the food on Weekends and hence reducing the delivery time.\n",
    "\n",
    "2. Better customer experience is more focussed for the delivery time on weekends makeing the delivery faster.\n",
    "\n",
    "3. We can also conclude that the tips would be better on weekends than on weekdays and hence better delivery times we see on weekends."
   ]
  },
  {
   "cell_type": "markdown",
   "metadata": {
    "id": "17roJywaJY_W"
   },
   "source": [
    "### Conclusion and Recommendations"
   ]
  },
  {
   "cell_type": "markdown",
   "metadata": {
    "id": "ZdX2Wz4FJY_W"
   },
   "source": [
    "### **Question 17:** What are your conclusions from the analysis? What recommendations would you like to share to help improve the business? (You can use cuisine type and feedback ratings to drive your business recommendations.) [6 marks]"
   ]
  },
  {
   "cell_type": "code",
   "execution_count": 164,
   "metadata": {},
   "outputs": [
    {
     "data": {
      "text/html": [
       "<div>\n",
       "<style scoped>\n",
       "    .dataframe tbody tr th:only-of-type {\n",
       "        vertical-align: middle;\n",
       "    }\n",
       "\n",
       "    .dataframe tbody tr th {\n",
       "        vertical-align: top;\n",
       "    }\n",
       "\n",
       "    .dataframe thead th {\n",
       "        text-align: right;\n",
       "    }\n",
       "</style>\n",
       "<table border=\"1\" class=\"dataframe\">\n",
       "  <thead>\n",
       "    <tr style=\"text-align: right;\">\n",
       "      <th></th>\n",
       "      <th>order_id</th>\n",
       "      <th>customer_id</th>\n",
       "      <th>restaurant_name</th>\n",
       "      <th>cuisine_type</th>\n",
       "      <th>cost_of_the_order</th>\n",
       "      <th>day_of_the_week</th>\n",
       "      <th>rating</th>\n",
       "      <th>food_preparation_time</th>\n",
       "      <th>delivery_time</th>\n",
       "      <th>total_time</th>\n",
       "    </tr>\n",
       "  </thead>\n",
       "  <tbody>\n",
       "    <tr>\n",
       "      <th>0</th>\n",
       "      <td>1477147</td>\n",
       "      <td>337525</td>\n",
       "      <td>Hangawi</td>\n",
       "      <td>Korean</td>\n",
       "      <td>30.75</td>\n",
       "      <td>Weekend</td>\n",
       "      <td>Not given</td>\n",
       "      <td>25</td>\n",
       "      <td>20</td>\n",
       "      <td>45</td>\n",
       "    </tr>\n",
       "    <tr>\n",
       "      <th>1</th>\n",
       "      <td>1477685</td>\n",
       "      <td>358141</td>\n",
       "      <td>Blue Ribbon Sushi Izakaya</td>\n",
       "      <td>Japanese</td>\n",
       "      <td>12.08</td>\n",
       "      <td>Weekend</td>\n",
       "      <td>Not given</td>\n",
       "      <td>25</td>\n",
       "      <td>23</td>\n",
       "      <td>48</td>\n",
       "    </tr>\n",
       "    <tr>\n",
       "      <th>2</th>\n",
       "      <td>1477070</td>\n",
       "      <td>66393</td>\n",
       "      <td>Cafe Habana</td>\n",
       "      <td>Mexican</td>\n",
       "      <td>12.23</td>\n",
       "      <td>Weekday</td>\n",
       "      <td>5</td>\n",
       "      <td>23</td>\n",
       "      <td>28</td>\n",
       "      <td>51</td>\n",
       "    </tr>\n",
       "    <tr>\n",
       "      <th>3</th>\n",
       "      <td>1477334</td>\n",
       "      <td>106968</td>\n",
       "      <td>Blue Ribbon Fried Chicken</td>\n",
       "      <td>American</td>\n",
       "      <td>29.20</td>\n",
       "      <td>Weekend</td>\n",
       "      <td>3</td>\n",
       "      <td>25</td>\n",
       "      <td>15</td>\n",
       "      <td>40</td>\n",
       "    </tr>\n",
       "    <tr>\n",
       "      <th>4</th>\n",
       "      <td>1478249</td>\n",
       "      <td>76942</td>\n",
       "      <td>Dirty Bird to Go</td>\n",
       "      <td>American</td>\n",
       "      <td>11.59</td>\n",
       "      <td>Weekday</td>\n",
       "      <td>4</td>\n",
       "      <td>25</td>\n",
       "      <td>24</td>\n",
       "      <td>49</td>\n",
       "    </tr>\n",
       "  </tbody>\n",
       "</table>\n",
       "</div>"
      ],
      "text/plain": [
       "   order_id  customer_id            restaurant_name cuisine_type  \\\n",
       "0   1477147       337525                    Hangawi       Korean   \n",
       "1   1477685       358141  Blue Ribbon Sushi Izakaya     Japanese   \n",
       "2   1477070        66393                Cafe Habana      Mexican   \n",
       "3   1477334       106968  Blue Ribbon Fried Chicken     American   \n",
       "4   1478249        76942           Dirty Bird to Go     American   \n",
       "\n",
       "   cost_of_the_order day_of_the_week     rating  food_preparation_time  \\\n",
       "0              30.75         Weekend  Not given                     25   \n",
       "1              12.08         Weekend  Not given                     25   \n",
       "2              12.23         Weekday          5                     23   \n",
       "3              29.20         Weekend          3                     25   \n",
       "4              11.59         Weekday          4                     25   \n",
       "\n",
       "   delivery_time  total_time  \n",
       "0             20          45  \n",
       "1             23          48  \n",
       "2             28          51  \n",
       "3             15          40  \n",
       "4             24          49  "
      ]
     },
     "execution_count": 164,
     "metadata": {},
     "output_type": "execute_result"
    }
   ],
   "source": [
    "df.head()"
   ]
  },
  {
   "cell_type": "markdown",
   "metadata": {
    "id": "VTugVsL4Ddz-"
   },
   "source": [
    "### Conclusions:\n",
    "#### From the above analysis, we can conclude the following:\n",
    "1. Shake Shack is the most popular restaurant from the above list in terms of orders received.\n",
    "2. The avaerage cost of an order is around $12\n",
    "\n",
    "3. The average food preparation time taken by the restaurants is 27 mins\n",
    "\n",
    "4. The average food delivery time taken by the restaurants is 24.16 mins\n",
    "5. Most popular cuisine on weekends is American.\n",
    "6. Percentage of the orders cost more than 20 dollars = 29.24%\n",
    "7. The delivery time on weekday is more compared to weekends.\n",
    "8. The mean food preparation time for all the cuisines are between 24-28 minutes\n",
    "9. We can see that the higher delivery time has lesser rating.\n",
    "10. Similar to delivery time, there are some instances where we have lower rating for higher food prep time.\n",
    "11. We could also conclude here that the restaurants know the their best selling items that customers like and are available at a higher cost.\n",
    "12. Based on customer orders, Korean, Mediterranean and Vietnamese cuisines also serve some special cuisines that have high rating and takes longer food prep time.\n",
    "13. There are 177 restaurants with an average rating above 4\n",
    "14. The total revenue generated by all the orders made by the company is: $ 6166.303\n",
    "15. The percentage of restaurants that take more than 60 minutes to deliver the food are:  10.5%\n",
    "16. The mean delivery time on weekdays is around 28  minutes and the mean delivery time on weekend is around 22  minutes\n",
    "17. American, Italian Japanese cuisines are popular and are rates 4 and above stars\n",
    "\n",
    "18. From the above result, there are 177 restaurants with an average rating above 4\n",
    "\n",
    "19. Best restaurants to go for American, Italian Japanese cuisines are:\n",
    "\n",
    " (a) 'Blue Ribbon Fried Chicken', \n",
    " \n",
    " (b) 'Shake Shack', \n",
    " \n",
    " (c) 'The Meatball Shop', \n",
    " \n",
    " (d)'Blue Ribbon Sushi'"
   ]
  },
  {
   "cell_type": "markdown",
   "metadata": {
    "id": "PWnsI0i_guWJ"
   },
   "source": [
    "### Recommendations:\n",
    "\n",
    "#### Some of the recommendations that the company can make to the customers are:\n",
    "\n",
    "1. More restaurants can serve American cuisine as that is a much popular cuisine to make more profit.\n",
    "2. The total food delivery time impacts the rating of the food. Faster prep and delivery will impact the food rating.\n",
    "3. Customers like  American, Italian Japanese cuisines -> Restaurants can add these to their menu.\n",
    "4. Weekends the customers order more food and is generally a profit making time. Good food and delivery can make restaurants rating better.\n",
    "5. The company should work on getting better delivery time on weekdays as well making the overall customer experience better. Based on the analysis, the food delivery time is higher on weekdays. This impacts the customer ratings.\n",
    "6. Only 29% of the order cost above $20. Restaurants should add more fast-food under $20 to the menu to attract more customers.\n",
    "7. Only 177 restaurants have an average rating of 4. The Food Hub company should reach out to the restaurants below rating 3 and guide them on getting their  customer ratings better by taking sample data from the 177 restaurants on the things being done right.\n"
   ]
  },
  {
   "cell_type": "markdown",
   "metadata": {
    "id": "tSoucKKbg9Hc"
   },
   "source": [
    "---"
   ]
  }
 ],
 "metadata": {
  "colab": {
   "collapsed_sections": [],
   "name": "PYF_Project_LearnerNotebook_FullCode.ipynb",
   "provenance": []
  },
  "kernelspec": {
   "display_name": "Python 3 (ipykernel)",
   "language": "python",
   "name": "python3"
  },
  "language_info": {
   "codemirror_mode": {
    "name": "ipython",
    "version": 3
   },
   "file_extension": ".py",
   "mimetype": "text/x-python",
   "name": "python",
   "nbconvert_exporter": "python",
   "pygments_lexer": "ipython3",
   "version": "3.10.9"
  }
 },
 "nbformat": 4,
 "nbformat_minor": 1
}
